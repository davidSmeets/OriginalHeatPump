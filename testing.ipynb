{
 "cells": [
  {
   "cell_type": "code",
   "execution_count": 431,
   "metadata": {},
   "outputs": [],
   "source": [
    "import inputs\n",
    "import refdata as ref\n",
    "import numpy\n",
    "from scipy import interpolate\n",
    "from isentropic_efficiency import getefficiency\n",
    "import pandas as pd\n",
    "import matplotlib.pyplot as plt\n",
    "import math"
   ]
  },
  {
   "cell_type": "code",
   "execution_count": 432,
   "metadata": {},
   "outputs": [
    {
     "data": {
      "text/plain": [
       "'r744'"
      ]
     },
     "execution_count": 432,
     "metadata": {},
     "output_type": "execute_result"
    }
   ],
   "source": [
    "inputs.refrigerant"
   ]
  },
  {
   "cell_type": "code",
   "execution_count": 433,
   "metadata": {},
   "outputs": [],
   "source": [
    "# Get evaporator temperature\n",
    "\n",
    "if inputs.source_type == 'Air':\n",
    "    evaporator_temp = inputs.source_temp - 6\n",
    "elif inputs.source_type == 'Water':\n",
    "    evaporator_temp = inputs.source_temp - 6\n",
    "elif inputs.source_type == 'Advanced':\n",
    "    evaporator_temp = inputs.source_temp - inputs.delta_T_source_evaporator"
   ]
  },
  {
   "cell_type": "code",
   "execution_count": 434,
   "metadata": {},
   "outputs": [],
   "source": [
    "# Get condensor temperature\n",
    "\n",
    "if inputs.sink_type == 'Air':\n",
    "    condensor_temp = inputs.sink_temp + 12\n",
    "\n",
    "elif inputs.sink_type == 'Water':\n",
    "    delta_T_sink_condensor = 5\n",
    "    supply_temp = inputs.sink_temp\n",
    "    return_temp = inputs.sink_temp_return\n",
    "\n",
    "    condensor_temp = (-(return_temp-supply_temp*numpy.exp((supply_temp\n",
    "                      - return_temp)/delta_T_sink_condensor)) / (numpy.exp(\n",
    "                      (supply_temp-return_temp) / delta_T_sink_condensor)-1)) \\\n",
    "                       + delta_T_sink_condensor\n",
    "\n",
    "elif inputs.sinkType == 'Advanced':\n",
    "    condensor_temp = inputs.sink_temp + inputs.delta_T_sink_condensor"
   ]
  },
  {
   "cell_type": "code",
   "execution_count": null,
   "metadata": {},
   "outputs": [],
   "source": []
  },
  {
   "cell_type": "code",
   "execution_count": 435,
   "metadata": {},
   "outputs": [],
   "source": [
    "# Compressor intake (suction line)\n",
    "p1 = ref.pressure_saturated_liq_func(evaporator_temp)[()]\n",
    "t1 = evaporator_temp + inputs.delta_T_superheat_suction\n",
    "h1 = ref.enthalpy_superheated_func(inputs.delta_T_superheat_suction, p1)[0]"
   ]
  },
  {
   "cell_type": "code",
   "execution_count": 436,
   "metadata": {},
   "outputs": [
    {
     "data": {
      "text/plain": [
       "33.9726"
      ]
     },
     "execution_count": 436,
     "metadata": {},
     "output_type": "execute_result"
    }
   ],
   "source": [
    "p1"
   ]
  },
  {
   "cell_type": "code",
   "execution_count": 437,
   "metadata": {},
   "outputs": [],
   "source": [
    "s1 = interpolate.bisplev(inputs.delta_T_superheat_suction, p1, ref.entropy_superheated_func)\n",
    "\n",
    "if inputs.delta_T_superheat_suction == 0:\n",
    "    x1 = 1\n",
    "else:\n",
    "    x1 = '-'"
   ]
  },
  {
   "cell_type": "code",
   "execution_count": 438,
   "metadata": {},
   "outputs": [],
   "source": [
    "# Compressor output (isentropic)\n",
    "p2s = ref.pressure_saturated_gas_func(condensor_temp)\n",
    "s2s = s1\n",
    "dt2s = interpolate.bisplev(s2s, p2s, ref.dt_s_superheated_func)\n",
    "t2s = condensor_temp + dt2s\n",
    "x2s = '-'\n",
    "h2s = ref.enthalpy_superheated_func(dt2s, p2s)[0]"
   ]
  },
  {
   "cell_type": "code",
   "execution_count": 439,
   "metadata": {},
   "outputs": [],
   "source": [
    "pressureratio = p2s/p1\n",
    "ideal = inputs.ideal_pressure_ratio"
   ]
  },
  {
   "cell_type": "code",
   "execution_count": 440,
   "metadata": {},
   "outputs": [],
   "source": [
    "# Used to be in seperate file\n",
    "\n",
    "if inputs.isentropic_efficiency == 'Estimate':\n",
    "    if inputs.compressor_type == 'Screw':\n",
    "            isentropic_efficiency_max = 0.75\n",
    "    elif inputs.compressor_type == 'Scroll':\n",
    "         isentropic_efficiency_max = 0.73\n",
    "    elif inputs.compressor_type == 'Reciprocating':\n",
    "         isentropic_efficiency_max = 0.72\n",
    "    elif inputs.compressor_type == 'Centrifugal':\n",
    "        isentropic_efficiency_max = 0.77\n",
    "    elif inputs.compressor_type == 'Unknown':\n",
    "         isentropic_efficiency_max = 0.70\n",
    "\n",
    "    delta = pressureratio - inputs.ideal_pressure_ratio\n",
    "    isentropic_efficiency = -0.01 * math.pow(delta, 2) + isentropic_efficiency_max\n",
    "\n",
    "elif inputs.isentropic_efficiency == 'Value':\n",
    "        isentropic_efficiency = inputs.isentropic_efficiency_val/100\n",
    "\n",
    "elif inputs.isentropic_efficiency == 'Do not include in calculation':\n",
    "        isentropic_efficiency = 1"
   ]
  },
  {
   "cell_type": "code",
   "execution_count": 441,
   "metadata": {},
   "outputs": [],
   "source": [
    "# Compressor output ('real')\n",
    "# isentropic_efficiency = isen.getefficiency(p2s/p1)\n",
    "\n",
    "p2 = p2s\n",
    "h2 = h1 + (h2s-h1) / isentropic_efficiency\n",
    "dt2 = interpolate.bisplev(h2, p2, ref.dt_h_superheated_func)\n",
    "t2 = condensor_temp + dt2\n",
    "s2 = interpolate.bisplev(dt2, p2, ref.entropy_superheated_func)[()]\n",
    "x2 = '-'"
   ]
  },
  {
   "cell_type": "code",
   "execution_count": 442,
   "metadata": {},
   "outputs": [],
   "source": [
    "# Expansion valve intake\n",
    "p3 = p2\n",
    "\n",
    "if ref.temp_gas_saturated.equals(ref.temp_liquid_saturated):\n",
    "    zeotropic = False\n",
    "    t3 = condensor_temp\n",
    "else: \n",
    "    zeotropic = True\n",
    "    t3 = ref.temp_liquid_saturated_func(p2)\n",
    "\n",
    "h3 = ref.enthalpy_liquid_saturated_func(p3)\n",
    "s3 = ref.entropy_liquid_saturated_func(p3)\n",
    "x3 = 0"
   ]
  },
  {
   "cell_type": "code",
   "execution_count": 443,
   "metadata": {},
   "outputs": [],
   "source": [
    "# Expansion valve outlet\n",
    "p4 = p1\n",
    "t4 = evaporator_temp\n",
    "h4 = h3\n",
    "\n",
    "hf = ref.enthalpy_liquid_saturated_func(p4)\n",
    "hg = ref.enthalpy_gas_saturated_func(p1)\n",
    "x4 = (h4-hf) / (hg-hf)\n",
    "\n",
    "sf = ref.entropy_liquid_saturated_func(p4)\n",
    "sg = ref.entropy_gas_saturated_func(p1)\n",
    "s4 = sf + x4 * (sg-sf)"
   ]
  },
  {
   "cell_type": "code",
   "execution_count": 444,
   "metadata": {},
   "outputs": [],
   "source": [
    "# Cop calculation\n",
    "delta_h_compressor = (h2-h1) / (inputs.motor_efficiency/100)\n",
    "delta_h_condensor = h2-h3\n",
    "cop = delta_h_condensor/delta_h_compressor\n",
    "cop_carnot = (condensor_temp+273.15) / (condensor_temp-evaporator_temp)\n",
    "carnot_efficiency = cop / cop_carnot"
   ]
  },
  {
   "cell_type": "code",
   "execution_count": 445,
   "metadata": {},
   "outputs": [
    {
     "data": {
      "text/plain": [
       "4.411955887136865"
      ]
     },
     "execution_count": 445,
     "metadata": {},
     "output_type": "execute_result"
    }
   ],
   "source": [
    "cop"
   ]
  },
  {
   "cell_type": "code",
   "execution_count": 446,
   "metadata": {},
   "outputs": [],
   "source": [
    "# Creating table\n",
    "table = pd.DataFrame([['1',t1, p1, h1, s1, x1], \n",
    "                    ['2s', t2s, p2s, h2s, s2s, x2s], \n",
    "                    ['2', t2, p2, h2, s2, x2], \n",
    "                    ['3', t3, p3, h3, s3, x3], \n",
    "                    ['4', t4, p4, h4, s4, x4]])\n",
    "table.columns = ['point', 'T (deg. C)', 'p (bar)', 'h (kJ/kg)', \n",
    "                's (kJ/kgK)', 'x']"
   ]
  },
  {
   "cell_type": "code",
   "execution_count": 447,
   "metadata": {},
   "outputs": [
    {
     "data": {
      "image/png": "[encoded data removed]",
      "text/plain": [
       "<Figure size 640x480 with 1 Axes>"
      ]
     },
     "metadata": {},
     "output_type": "display_data"
    }
   ],
   "source": [
    "#plot log p-h saturation curve\n",
    "\n",
    "fig, ax = plt.subplots()\n",
    "\n",
    "toplot_h_liq = ref.enthalpy_liquid_saturated_func(ref.pressure_saturated)\n",
    "toplot_h_gas = ref.enthalpy_gas_saturated_func(ref.pressure_saturated)\n",
    "toplot_p = ref.pressure_saturated\n",
    "\n",
    "ax.plot(toplot_h_liq, toplot_p, color='k')\n",
    "ax.plot(toplot_h_gas, toplot_p, color='k')\n",
    "\n",
    "plt.yscale('log')\n",
    "plt.xlabel(\"Enthalpy (kJ/kg)\")\n",
    "plt.ylabel(\"Pressure (bar)\")\n",
    "plt.title(\"Log p-h diagram for refrigerant \" + inputs.refrigerant)\n",
    "plt.grid()"
   ]
  },
  {
   "cell_type": "code",
   "execution_count": 448,
   "metadata": {},
   "outputs": [
    {
     "data": {
      "text/plain": [
       "'r744'"
      ]
     },
     "execution_count": 448,
     "metadata": {},
     "output_type": "execute_result"
    }
   ],
   "source": [
    "inputs.refrigerant"
   ]
  },
  {
   "cell_type": "code",
   "execution_count": 449,
   "metadata": {},
   "outputs": [
    {
     "data": {
      "image/png": "[encoded data removed]",
      "text/plain": [
       "<Figure size 640x480 with 1 Axes>"
      ]
     },
     "execution_count": 449,
     "metadata": {},
     "output_type": "execute_result"
    }
   ],
   "source": [
    "# Plot cycle\n",
    "\n",
    "ax.plot(table['h (kJ/kg)'] , table['p (bar)'], '*b')\n",
    "ax.plot([h1,h2,h3,h4,h1] , [p1,p2,p3,p4,p1], 'b')\n",
    "ax.plot(h2s,p2s, '*r')\n",
    "fig"
   ]
  },
  {
   "cell_type": "code",
   "execution_count": 450,
   "metadata": {},
   "outputs": [],
   "source": [
    "# Flow rates etc\n",
    "\n",
    "mass_flowrate_refrigerant = inputs.capacity/delta_h_condensor   \t#kg/s\n",
    "RHO_C = 4000\n",
    "volume_rate_water = inputs.capacity / ((inputs.sink_temp - inputs.sink_temp_return)*RHO_C)\n",
    "electric_power = inputs.capacity/cop"
   ]
  },
  {
   "cell_type": "code",
   "execution_count": 451,
   "metadata": {},
   "outputs": [
    {
     "data": {
      "text/html": [
       "<div>\n",
       "<style scoped>\n",
       "    .dataframe tbody tr th:only-of-type {\n",
       "        vertical-align: middle;\n",
       "    }\n",
       "\n",
       "    .dataframe tbody tr th {\n",
       "        vertical-align: top;\n",
       "    }\n",
       "\n",
       "    .dataframe thead th {\n",
       "        text-align: right;\n",
       "    }\n",
       "</style>\n",
       "<table border=\"1\" class=\"dataframe\">\n",
       "  <thead>\n",
       "    <tr style=\"text-align: right;\">\n",
       "      <th></th>\n",
       "      <th>point</th>\n",
       "      <th>T (deg. C)</th>\n",
       "      <th>p (bar)</th>\n",
       "      <th>h (kJ/kg)</th>\n",
       "      <th>s (kJ/kgK)</th>\n",
       "      <th>x</th>\n",
       "    </tr>\n",
       "  </thead>\n",
       "  <tbody>\n",
       "    <tr>\n",
       "      <th>0</th>\n",
       "      <td>1</td>\n",
       "      <td>4.000000</td>\n",
       "      <td>33.9726</td>\n",
       "      <td>439.932061</td>\n",
       "      <td>1.876243</td>\n",
       "      <td>-</td>\n",
       "    </tr>\n",
       "    <tr>\n",
       "      <th>1</th>\n",
       "      <td>2s</td>\n",
       "      <td>54.762169</td>\n",
       "      <td>67.46</td>\n",
       "      <td>466.251278</td>\n",
       "      <td>1.876243</td>\n",
       "      <td>-</td>\n",
       "    </tr>\n",
       "    <tr>\n",
       "      <th>2</th>\n",
       "      <td>2</td>\n",
       "      <td>61.223251</td>\n",
       "      <td>67.46</td>\n",
       "      <td>476.501141</td>\n",
       "      <td>1.917049</td>\n",
       "      <td>-</td>\n",
       "    </tr>\n",
       "    <tr>\n",
       "      <th>3</th>\n",
       "      <td>3</td>\n",
       "      <td>27.000000</td>\n",
       "      <td>67.46</td>\n",
       "      <td>286.688</td>\n",
       "      <td>1.286</td>\n",
       "      <td>0</td>\n",
       "    </tr>\n",
       "    <tr>\n",
       "      <th>4</th>\n",
       "      <td>4</td>\n",
       "      <td>-1.000000</td>\n",
       "      <td>33.9726</td>\n",
       "      <td>286.688</td>\n",
       "      <td>1.318834</td>\n",
       "      <td>0.381037</td>\n",
       "    </tr>\n",
       "  </tbody>\n",
       "</table>\n",
       "</div>"
      ],
      "text/plain": [
       "  point  T (deg. C)  p (bar)   h (kJ/kg) s (kJ/kgK)         x\n",
       "0     1    4.000000  33.9726  439.932061   1.876243         -\n",
       "1    2s   54.762169    67.46  466.251278   1.876243         -\n",
       "2     2   61.223251    67.46  476.501141   1.917049         -\n",
       "3     3   27.000000    67.46     286.688      1.286         0\n",
       "4     4   -1.000000  33.9726     286.688   1.318834  0.381037"
      ]
     },
     "execution_count": 451,
     "metadata": {},
     "output_type": "execute_result"
    }
   ],
   "source": [
    "table"
   ]
  },
  {
   "cell_type": "code",
   "execution_count": 452,
   "metadata": {},
   "outputs": [],
   "source": [
    "# print(zeotropic)\n",
    "# plt.show()\n",
    "# print(cop)\n",
    "# print(cop_carnot)\n",
    "# print(carnot_efficiency)\n",
    "# print(table)"
   ]
  }
 ],
 "metadata": {
  "kernelspec": {
   "display_name": "Python 3.9.13 ('base')",
   "language": "python",
   "name": "python3"
  },
  "language_info": {
   "codemirror_mode": {
    "name": "ipython",
    "version": 3
   },
   "file_extension": ".py",
   "mimetype": "text/x-python",
   "name": "python",
   "nbconvert_exporter": "python",
   "pygments_lexer": "ipython3",
   "version": "3.9.13"
  },
  "orig_nbformat": 4,
  "vscode": {
   "interpreter": {
    "hash": "ea8238db6dc1fe8cf6fe83219457bde9bcbcde2053d40c59d2e78211d10c5fee"
   }
  }
 },
 "nbformat": 4,
 "nbformat_minor": 2
}
