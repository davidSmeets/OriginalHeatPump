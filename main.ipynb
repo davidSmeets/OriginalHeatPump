{
 "cells": [
  {
   "cell_type": "markdown",
   "metadata": {},
   "source": [
    "<center>\n",
    "<img src='Deerns-logo.jpg' height=\"100\">\n",
    "<center/>"
   ]
  },
  {
   "cell_type": "markdown",
   "metadata": {},
   "source": [
    "# COP Calculator\n",
    "\n"
   ]
  },
  {
   "cell_type": "code",
   "execution_count": 1,
   "metadata": {},
   "outputs": [],
   "source": [
    "import inputs\n",
    "import refdata as ref\n",
    "import isentropic_efficiency as isen\n",
    "import numpy\n",
    "from scipy import interpolate\n",
    "import pandas as pd\n",
    "import matplotlib.pyplot as plt"
   ]
  },
  {
   "cell_type": "markdown",
   "metadata": {},
   "source": [
    "### Evaporator temperature\n",
    "The temperature of the refrigerant in the evaporator (cold side) in $\\degree C $ \\\n",
    "Default values from EN-15316 are used to 'model' the heat transfer between source and evaporator as a temperature difference.\n",
    "\n",
    "<center>\n",
    "\n",
    "|Source|$\\Delta T_e \\:(K) $|\n",
    "|-|-|\n",
    "|Air|6|\n",
    "|Water|6|\n",
    "\n",
    "</center>\n",
    "\n",
    "Note that the temeperature difference stays the same\n"
   ]
  },
  {
   "cell_type": "code",
   "execution_count": 2,
   "metadata": {},
   "outputs": [],
   "source": [
    "if inputs.source_type == 'Air':\n",
    "    evaporator_temp = inputs.source_temp - 6\n",
    "elif inputs.source_type == 'Water':\n",
    "    evaporator_temp = inputs.source_temp - 6\n",
    "elif inputs.source_type == 'Advanced':\n",
    "    evaporator_temp = inputs.source_temp - inputs.delta_T_source_evaporator"
   ]
  },
  {
   "cell_type": "markdown",
   "metadata": {},
   "source": [
    "### Condensor temperature\n",
    "The temperature of the refrigerant in the condensor (hot side) in $\\degree C $ \\\n",
    "Default values from EN-15316 are used to 'model' the heat transfer between sink and condensor as a temperature difference, dependant on the type of source.\n",
    "\n",
    "<center>\n",
    "\n",
    "|Sink|$\\Delta T_c \\:(K) $|\n",
    "|-|-|\n",
    "|Air|12|\n",
    "|Water|5|\n",
    "\n",
    "</center>\n",
    "\n",
    "In case the sink type 'Water' is selected, the user is prompted to enter the water return temperature. in this case, the condensor temperature is calculated according to:\n",
    "\n",
    "\\begin{equation}\n",
    "T_c = -\\frac{T_r - T_s\\cdot\\exp(\\frac{T_r - T_s}{\\Delta T_{log}})}{\\exp(\\frac{T_s - T_r}{\\Delta T_{log}}) - 1}\n",
    "\\end{equation}\n",
    "\n",
    "With $ T_r $ and $ T_s $ being return and supply temperature, repectively, and  $ \\Delta T_{log} $ being the logaritmic mean temperature difference between the heating water and the refrigerant in the condensor. (source: Maivel, M. & Kurnitski, J. (2015). https://doi.org/10.1016/j.enbuild.2015.02.048)"
   ]
  },
  {
   "cell_type": "code",
   "execution_count": 3,
   "metadata": {},
   "outputs": [],
   "source": [
    "if inputs.sink_type == 'Air':\n",
    "    condensor_temp = inputs.sink_temp + 12\n",
    "\n",
    "elif inputs.sink_type == 'Water':\n",
    "    delta_T_sink_condensor = 5\n",
    "    supply_temp = inputs.sink_temp\n",
    "    return_temp = inputs.sink_temp_return\n",
    "\n",
    "    condensor_temp = (-(return_temp-supply_temp*numpy.exp((supply_temp\n",
    "                      - return_temp)/delta_T_sink_condensor)) / (numpy.exp(\n",
    "                      (supply_temp-return_temp) / delta_T_sink_condensor)-1)) \\\n",
    "                       + delta_T_sink_condensor\n",
    "\n",
    "elif inputs.sinkType == 'Advanced':\n",
    "    condensor_temp = inputs.sink_temp + inputs.delta_T_sink_condensor"
   ]
  },
  {
   "cell_type": "markdown",
   "metadata": {},
   "source": [
    "### 1. Compressor intake\n",
    "\n",
    "Although the refrigerant theoretically should be in the saturated gas stage, in practical situations it is superheated above the saturation temperature to avoid liquid refrigerant entering the compressor. Thus the thermodynamic properties at the compressor intake are calculated based on the calculated evaporator temperature and the amount of superheat in the suction line. \\\n",
    "\\\n",
    "The values for enthalpy (h) and entropy (s) are calculated as a function of the amount of superheat and pressure at the intake.\n"
   ]
  },
  {
   "cell_type": "code",
   "execution_count": 35,
   "metadata": {},
   "outputs": [],
   "source": [
    "p1 = ref.pressure_saturated_liq_func(evaporator_temp)[()]\n",
    "t1 = evaporator_temp + inputs.delta_T_superheat_suction\n",
    "h1 = ref.enthalpy_superheated_func(inputs.delta_T_superheat_suction, p1)[0]\n",
    "s1 = interpolate.bisplev(inputs.delta_T_superheat_suction, p1, ref.entropy_superheated_func)"
   ]
  },
  {
   "cell_type": "markdown",
   "metadata": {},
   "source": [
    "Vapor quality (x) is only apllicable if the refrigerant is evaporating or condensing ( 0 < x < 1 ), or when the refrigerant is in either saturated liquid stage (x = 0) or saturated gasseous state (x = 1)."
   ]
  },
  {
   "cell_type": "code",
   "execution_count": null,
   "metadata": {},
   "outputs": [],
   "source": [
    "if inputs.delta_T_superheat_suction == 0:\n",
    "    x1 = 1\n",
    "else:\n",
    "    x1 = '-'"
   ]
  },
  {
   "cell_type": "markdown",
   "metadata": {},
   "source": [
    "### 2s. Compressor output (isentropic)\n",
    "The thermodynamic properties are calculated, based on the isentropic nature of an ideal compression cycle, thus assuming equal entropy in compressor intake and outlet."
   ]
  },
  {
   "cell_type": "code",
   "execution_count": 36,
   "metadata": {},
   "outputs": [],
   "source": [
    "# Compressor output (isentropic)\n",
    "p2s = ref.pressure_saturated_gas_func(condensor_temp)\n",
    "s2s = s1\n",
    "dt2s = interpolate.bisplev(s2s, p2s, ref.dt_s_superheated_func)\n",
    "t2s = condensor_temp + dt2s\n",
    "x2s = '-'\n",
    "h2s = ref.enthalpy_superheated_func(dt2s, p2s)[0]"
   ]
  },
  {
   "cell_type": "markdown",
   "metadata": {},
   "source": [
    "To estimate the isentropic efficiency, the pressure ratio is calculated. Together with the ideal pressure ratio (default: 3) and the type of compressor, the isentropic efficiency is estimated (source*: J. Campbell, (2011). https://bit.ly/2VhjlOv)"
   ]
  },
  {
   "cell_type": "code",
   "execution_count": 37,
   "metadata": {},
   "outputs": [],
   "source": [
    "pressureratio = p2s/p1\n",
    "ideal = inputs.ideal_pressure_ratio\n",
    "isentropic_efficiency = isen.getefficiency(pressureratio)"
   ]
  },
  {
   "cell_type": "markdown",
   "metadata": {},
   "source": [
    "### 2. Compressor output (real)\n",
    "The properties of point 2s are corrected for isentropic efficiency, defined as:\n",
    "\n",
    "\n",
    "\n",
    "\\begin{equation}\n",
    "\\eta_{is} = \\frac{h_{2s}-h_1}{h_2-h_1}\n",
    "\\end{equation}\n",
    "\n"
   ]
  },
  {
   "cell_type": "code",
   "execution_count": 39,
   "metadata": {},
   "outputs": [],
   "source": [
    "p2 = p2s\n",
    "h2 = h1 + (h2s-h1) / isentropic_efficiency\n",
    "dt2 = interpolate.bisplev(h2, p2, ref.dt_h_superheated_func)\n",
    "t2 = condensor_temp + dt2\n",
    "s2 = interpolate.bisplev(dt2, p2, ref.entropy_superheated_func)[()]\n",
    "x2 = '-'"
   ]
  },
  {
   "cell_type": "markdown",
   "metadata": {},
   "source": [
    "### 3. Expansion valve intake\n",
    "\n",
    "First, the saturated gas properties are compared to the saturated liquid properties. In case of refrigerant mixtures (r4xxx etc.), temperature in saturated gaseous state will vary from the temperature of saturated liquid state at equal pressures, due to the zeotropic nature of these mixtures (temperature glide). \\\n",
    "Next, the remaining properties are calculated, assuming that the refrigerant is in saturated liquid state. Vapor quality x will therefore always be 0."
   ]
  },
  {
   "cell_type": "code",
   "execution_count": 53,
   "metadata": {},
   "outputs": [],
   "source": [
    "p3 = p2\n",
    "\n",
    "if ref.temp_gas_saturated.equals(ref.temp_liquid_saturated):\n",
    "    zeotropic = False\n",
    "    t3 = condensor_temp\n",
    "else: \n",
    "    zeotropic = True\n",
    "    t3 = ref.temp_liquid_saturated_func(p3)\n",
    "\n",
    "h3 = ref.enthalpy_liquid_saturated_func(p3)\n",
    "s3 = ref.entropy_liquid_saturated_func(p3)\n",
    "x3 = 0"
   ]
  },
  {
   "cell_type": "markdown",
   "metadata": {},
   "source": [
    "### 4. Expansion valve outlet\n",
    "The properties of the refrigerant at the expansion valve outlet are calculated assuming isenthalp (equal enthalpy) behaviour of the expansion valve. Furthermore, temperature and pressure wil lreturn to the values of point 1 (evaporator).\n"
   ]
  },
  {
   "cell_type": "code",
   "execution_count": 54,
   "metadata": {},
   "outputs": [],
   "source": [
    "p4 = p1\n",
    "t4 = t1\n",
    "h4 = h3"
   ]
  },
  {
   "cell_type": "markdown",
   "metadata": {},
   "source": [
    "Calculation of vapor quality is neccesary in order to calculate the entropy value in point 4. Vapor quality at point $i$ is defined as:\n",
    "\n",
    "\\begin{equation}\n",
    "\n",
    "x_i = \\frac{h_i-h_l}{h_g-h_l}\n",
    "\n",
    "\\end{equation}\n",
    "\n",
    "Where $h_l$ and $h_g$ are the enthalpy values of saturated liquid and saturated gas at equal pressure $p_i$, respectively."
   ]
  },
  {
   "cell_type": "code",
   "execution_count": 65,
   "metadata": {},
   "outputs": [],
   "source": [
    "hl = ref.enthalpy_liquid_saturated_func(p4)\n",
    "hg = ref.enthalpy_gas_saturated_func(p1)\n",
    "x4 = (h4-hl) / (hg-hl)"
   ]
  },
  {
   "cell_type": "markdown",
   "metadata": {},
   "source": [
    "Equal to the defenition mentioned above, vapor quality at point $i$ is defined as:\n",
    "\n",
    "\\begin{equation}\n",
    "\n",
    "x_i = \\frac{s_i-s_l}{s_g-s_l}\n",
    "\n",
    "\\end{equation}\n",
    "\n",
    "Consequently, entropy in point $i$ can be calculated:\n",
    "\\begin{equation}\n",
    "s_i = s_l + x_i \\cdot (s_g-s_l)\n",
    "\\end{equation}\n",
    "\n",
    "Note that this value is solely of interest for completeness of the table of refrigerant properties."
   ]
  },
  {
   "cell_type": "code",
   "execution_count": null,
   "metadata": {},
   "outputs": [],
   "source": [
    "sl = ref.entropy_liquid_saturated_func(p4)\n",
    "sg = ref.entropy_gas_saturated_func(p1)\n",
    "s4 = sl + x4 * (sg-sl)"
   ]
  },
  {
   "cell_type": "markdown",
   "metadata": {},
   "source": [
    "### COP calculation\n",
    "The *coefficient of performance* (COP) of a heat pump is caculated as the quotient of the useful energy (heat flow) delivered by the heat pump $\\dot{Q}$ and the electrical power consumption of the compressor $E$:\n",
    "\n",
    "\\begin{equation}\n",
    "COP = \\frac{\\dot{Q}}{E}\n",
    "\\end{equation}\n",
    "\n",
    "$\\dot{Q}$ and $E$ can be calculated from the thermodynamic properties calculated in the various points as mentioned above, specifically utilising the enthalpy values:\n",
    "\n",
    "\\begin{equation}\n",
    "\n",
    "\\dot{Q} = \\dot{m}\\cdot\\Delta h_{condensor} \n",
    "\n",
    "\\end{equation}\n",
    "\n",
    "\\begin{equation}\n",
    "\n",
    "E = \\dot{m}\\cdot\\Delta h_{compressor}\n",
    "\n",
    "\\end{equation}\n",
    "\n",
    "With \\dot{m} being the mass flow of refrigerant in the cycle.\\\n",
    "Combining above equations gives:\n",
    "\n",
    "\\begin{equation}\n",
    "\n",
    "COP = \\frac{\\Delta h_{condensor}}{\\Delta h_{compressor}}\n",
    "\n",
    "\\end{equation}\n",
    "\n",
    "or:\n",
    "\n",
    "\\begin{equation}\n",
    "\n",
    "COP = \\frac{\\Delta h_3 - h_2}{\\Delta h_2 -h_1}\n",
    "\n",
    "\\end{equation}\n",
    "\n",
    "Furthermore, the efficiency of the (assumed electric) motor driving the heat pump is considered, with a default value of $\\eta_{motor} = 0.85 $, such that:\n",
    "\n",
    "\\begin{equation}\n",
    "\n",
    "\\Delta h_{compressor} = \\frac{h_2-h1}{\\eta_{motor}}\n",
    "\n",
    "\\end{equation}\n"
   ]
  },
  {
   "cell_type": "code",
   "execution_count": 55,
   "metadata": {},
   "outputs": [],
   "source": [
    "delta_h_compressor = (h2-h1) / (inputs.motor_efficiency/100)\n",
    "delta_h_condensor = h2-h3\n",
    "cop = delta_h_condensor/delta_h_compressor"
   ]
  },
  {
   "cell_type": "code",
   "execution_count": null,
   "metadata": {},
   "outputs": [],
   "source": [
    "cop_carnot = (condensor_temp+273.15) / (condensor_temp-evaporator_temp)\n",
    "carnot_efficiency = cop / cop_carnot"
   ]
  },
  {
   "cell_type": "code",
   "execution_count": 56,
   "metadata": {},
   "outputs": [],
   "source": [
    "# Creating table\n",
    "reftable = pd.DataFrame(\n",
    "    [\n",
    "        ['1',t1, p1, h1, s1, x1], \n",
    "        ['2s', t2s, p2s, h2s, s2s, x2s], \n",
    "        ['2', t2, p2, h2, s2, x2], \n",
    "        ['3', t3, p3, h3, s3, x3], \n",
    "        ['4', t4, p4, h4, s4, x4]\n",
    "    ]\n",
    ")\n",
    "\n",
    "reftable.columns = ['point', 'T (°C)', 'p (bar)', 'h (kJ/kg)', \n",
    "                's (kJ/kgK)', 'x']"
   ]
  },
  {
   "cell_type": "code",
   "execution_count": 57,
   "metadata": {},
   "outputs": [
    {
     "data": {
      "image/png": "[encoded data removed]",
      "text/plain": [
       "<Figure size 640x480 with 1 Axes>"
      ]
     },
     "metadata": {},
     "output_type": "display_data"
    }
   ],
   "source": [
    "#plot log p-h saturation curve\n",
    "\n",
    "fig, ax = plt.subplots()\n",
    "\n",
    "toplot_h_liq = ref.enthalpy_liquid_saturated_func(ref.pressure_saturated)\n",
    "toplot_h_gas = ref.enthalpy_gas_saturated_func(ref.pressure_saturated)\n",
    "toplot_p = ref.pressure_saturated\n",
    "\n",
    "ax.plot(toplot_h_liq, toplot_p, color='k')\n",
    "ax.plot(toplot_h_gas, toplot_p, color='k')\n",
    "\n",
    "plt.yscale('log')\n",
    "plt.xlabel(\"Enthalpy (kJ/kg)\")\n",
    "plt.ylabel(\"Pressure (bar)\")\n",
    "plt.title(\"Log p-h diagram for refrigerant \" + inputs.refrigerant)\n",
    "plt.grid()"
   ]
  },
  {
   "cell_type": "code",
   "execution_count": 58,
   "metadata": {},
   "outputs": [
    {
     "data": {
      "image/png": "[encoded data removed]",
      "text/plain": [
       "<Figure size 640x480 with 1 Axes>"
      ]
     },
     "execution_count": 58,
     "metadata": {},
     "output_type": "execute_result"
    }
   ],
   "source": [
    "# Plot cycle\n",
    "\n",
    "ax.plot(reftable['h (kJ/kg)'] , reftable['p (bar)'], '*b')\n",
    "ax.plot([h1,h2,h3,h4,h1] , [p1,p2,p3,p4,p1], 'b')\n",
    "ax.plot(h2s,p2s, '*r')\n",
    "fig"
   ]
  },
  {
   "cell_type": "code",
   "execution_count": 59,
   "metadata": {},
   "outputs": [],
   "source": [
    "# Flow rates etc\n",
    "\n",
    "mass_flowrate_refrigerant = inputs.capacity/delta_h_condensor   \t#kg/s\n",
    "RHO_C = 4000\n",
    "volume_rate_water = inputs.capacity / ((inputs.sink_temp - inputs.sink_temp_return)*RHO_C)\n",
    "electric_power = inputs.capacity/cop"
   ]
  },
  {
   "cell_type": "code",
   "execution_count": 60,
   "metadata": {},
   "outputs": [],
   "source": [
    "outputtable = pd.DataFrame(\n",
    "    [\n",
    "        ['COP',round(cop,2)],\n",
    "        ['SCOP','-'],\n",
    "        ['Carnot COP', round(cop_carnot,2)], \n",
    "        ['Carnot efficiency (%)', round(carnot_efficiency,3)*100], \n",
    "        ['Electric power (kW)', round(electric_power,1)], \n",
    "        ['Refrigerant mass flow rate (kg/s)', mass_flowrate_refrigerant],\n",
    "        [ 'Water volume flow rate (kg/s)', volume_rate_water]\n",
    "    ]   \n",
    ")"
   ]
  },
  {
   "cell_type": "code",
   "execution_count": 61,
   "metadata": {},
   "outputs": [
    {
     "data": {
      "text/plain": [
       "0.7135615015605826"
      ]
     },
     "execution_count": 61,
     "metadata": {},
     "output_type": "execute_result"
    }
   ],
   "source": [
    "isentropic_efficiency"
   ]
  },
  {
   "cell_type": "code",
   "execution_count": 62,
   "metadata": {},
   "outputs": [
    {
     "data": {
      "text/html": [
       "<div>\n",
       "<style scoped>\n",
       "    .dataframe tbody tr th:only-of-type {\n",
       "        vertical-align: middle;\n",
       "    }\n",
       "\n",
       "    .dataframe tbody tr th {\n",
       "        vertical-align: top;\n",
       "    }\n",
       "\n",
       "    .dataframe thead th {\n",
       "        text-align: right;\n",
       "    }\n",
       "</style>\n",
       "<table border=\"1\" class=\"dataframe\">\n",
       "  <thead>\n",
       "    <tr style=\"text-align: right;\">\n",
       "      <th></th>\n",
       "      <th>0</th>\n",
       "      <th>1</th>\n",
       "    </tr>\n",
       "  </thead>\n",
       "  <tbody>\n",
       "    <tr>\n",
       "      <th>0</th>\n",
       "      <td>COP</td>\n",
       "      <td>2.69</td>\n",
       "    </tr>\n",
       "    <tr>\n",
       "      <th>1</th>\n",
       "      <td>SCOP</td>\n",
       "      <td>-</td>\n",
       "    </tr>\n",
       "    <tr>\n",
       "      <th>2</th>\n",
       "      <td>Carnot COP</td>\n",
       "      <td>5.99</td>\n",
       "    </tr>\n",
       "    <tr>\n",
       "      <th>3</th>\n",
       "      <td>Carnot efficiency (%)</td>\n",
       "      <td>44.9</td>\n",
       "    </tr>\n",
       "    <tr>\n",
       "      <th>4</th>\n",
       "      <td>Electric power (kW)</td>\n",
       "      <td>3.7</td>\n",
       "    </tr>\n",
       "    <tr>\n",
       "      <th>5</th>\n",
       "      <td>Refrigerant mass flow rate (kg/s)</td>\n",
       "      <td>0.051316</td>\n",
       "    </tr>\n",
       "    <tr>\n",
       "      <th>6</th>\n",
       "      <td>Water volume flow rate (kg/s)</td>\n",
       "      <td>0.00025</td>\n",
       "    </tr>\n",
       "  </tbody>\n",
       "</table>\n",
       "</div>"
      ],
      "text/plain": [
       "                                   0         1\n",
       "0                                COP      2.69\n",
       "1                               SCOP         -\n",
       "2                         Carnot COP      5.99\n",
       "3              Carnot efficiency (%)      44.9\n",
       "4                Electric power (kW)       3.7\n",
       "5  Refrigerant mass flow rate (kg/s)  0.051316\n",
       "6      Water volume flow rate (kg/s)   0.00025"
      ]
     },
     "execution_count": 62,
     "metadata": {},
     "output_type": "execute_result"
    }
   ],
   "source": [
    "outputtable"
   ]
  },
  {
   "cell_type": "code",
   "execution_count": 63,
   "metadata": {},
   "outputs": [
    {
     "data": {
      "text/html": [
       "<div>\n",
       "<style scoped>\n",
       "    .dataframe tbody tr th:only-of-type {\n",
       "        vertical-align: middle;\n",
       "    }\n",
       "\n",
       "    .dataframe tbody tr th {\n",
       "        vertical-align: top;\n",
       "    }\n",
       "\n",
       "    .dataframe thead th {\n",
       "        text-align: right;\n",
       "    }\n",
       "</style>\n",
       "<table border=\"1\" class=\"dataframe\">\n",
       "  <thead>\n",
       "    <tr style=\"text-align: right;\">\n",
       "      <th></th>\n",
       "      <th>0</th>\n",
       "      <th>1</th>\n",
       "    </tr>\n",
       "  </thead>\n",
       "  <tbody>\n",
       "    <tr>\n",
       "      <th>0</th>\n",
       "      <td>Sink</td>\n",
       "      <td>Water</td>\n",
       "    </tr>\n",
       "    <tr>\n",
       "      <th>1</th>\n",
       "      <td>Source</td>\n",
       "      <td>Air</td>\n",
       "    </tr>\n",
       "    <tr>\n",
       "      <th>2</th>\n",
       "      <td>Sink temperature (°C)</td>\n",
       "      <td>47</td>\n",
       "    </tr>\n",
       "    <tr>\n",
       "      <th>3</th>\n",
       "      <td>Sink temperature (return) (°C)</td>\n",
       "      <td>37</td>\n",
       "    </tr>\n",
       "    <tr>\n",
       "      <th>4</th>\n",
       "      <td>Source temperature (°C)</td>\n",
       "      <td>5</td>\n",
       "    </tr>\n",
       "    <tr>\n",
       "      <th>5</th>\n",
       "      <td>Refrigerant</td>\n",
       "      <td>r410a</td>\n",
       "    </tr>\n",
       "    <tr>\n",
       "      <th>6</th>\n",
       "      <td>Capacity (kW)</td>\n",
       "      <td>10</td>\n",
       "    </tr>\n",
       "  </tbody>\n",
       "</table>\n",
       "</div>"
      ],
      "text/plain": [
       "                                0      1\n",
       "0                            Sink  Water\n",
       "1                          Source    Air\n",
       "2           Sink temperature (°C)     47\n",
       "3  Sink temperature (return) (°C)     37\n",
       "4         Source temperature (°C)      5\n",
       "5                     Refrigerant  r410a\n",
       "6                   Capacity (kW)     10"
      ]
     },
     "execution_count": 63,
     "metadata": {},
     "output_type": "execute_result"
    }
   ],
   "source": [
    "inputs.inputtable"
   ]
  },
  {
   "cell_type": "code",
   "execution_count": 64,
   "metadata": {},
   "outputs": [
    {
     "data": {
      "text/html": [
       "<div>\n",
       "<style scoped>\n",
       "    .dataframe tbody tr th:only-of-type {\n",
       "        vertical-align: middle;\n",
       "    }\n",
       "\n",
       "    .dataframe tbody tr th {\n",
       "        vertical-align: top;\n",
       "    }\n",
       "\n",
       "    .dataframe thead th {\n",
       "        text-align: right;\n",
       "    }\n",
       "</style>\n",
       "<table border=\"1\" class=\"dataframe\">\n",
       "  <thead>\n",
       "    <tr style=\"text-align: right;\">\n",
       "      <th></th>\n",
       "      <th>point</th>\n",
       "      <th>T (°C)</th>\n",
       "      <th>p (bar)</th>\n",
       "      <th>h (kJ/kg)</th>\n",
       "      <th>s (kJ/kgK)</th>\n",
       "      <th>x</th>\n",
       "    </tr>\n",
       "  </thead>\n",
       "  <tbody>\n",
       "    <tr>\n",
       "      <th>0</th>\n",
       "      <td>1</td>\n",
       "      <td>4</td>\n",
       "      <td>7.7666</td>\n",
       "      <td>426.47717</td>\n",
       "      <td>1.838877</td>\n",
       "      <td>-</td>\n",
       "    </tr>\n",
       "    <tr>\n",
       "      <th>1</th>\n",
       "      <td>2s</td>\n",
       "      <td>83.228151</td>\n",
       "      <td>33.25756816339182</td>\n",
       "      <td>470.480478</td>\n",
       "      <td>1.838877</td>\n",
       "      <td>-</td>\n",
       "    </tr>\n",
       "    <tr>\n",
       "      <th>2</th>\n",
       "      <td>2</td>\n",
       "      <td>96.811392</td>\n",
       "      <td>33.25756816339182</td>\n",
       "      <td>488.144325</td>\n",
       "      <td>1.896243</td>\n",
       "      <td>-</td>\n",
       "    </tr>\n",
       "    <tr>\n",
       "      <th>3</th>\n",
       "      <td>3</td>\n",
       "      <td>53.462100628754165</td>\n",
       "      <td>33.25756816339182</td>\n",
       "      <td>293.2727437480489</td>\n",
       "      <td>1.3021574440240267</td>\n",
       "      <td>0</td>\n",
       "    </tr>\n",
       "    <tr>\n",
       "      <th>4</th>\n",
       "      <td>4</td>\n",
       "      <td>4</td>\n",
       "      <td>7.7666</td>\n",
       "      <td>293.2727437480489</td>\n",
       "      <td>1.34275</td>\n",
       "      <td>0.425923</td>\n",
       "    </tr>\n",
       "  </tbody>\n",
       "</table>\n",
       "</div>"
      ],
      "text/plain": [
       "  point              T (°C)            p (bar)          h (kJ/kg)  \\\n",
       "0     1                   4             7.7666          426.47717   \n",
       "1    2s           83.228151  33.25756816339182         470.480478   \n",
       "2     2           96.811392  33.25756816339182         488.144325   \n",
       "3     3  53.462100628754165  33.25756816339182  293.2727437480489   \n",
       "4     4                   4             7.7666  293.2727437480489   \n",
       "\n",
       "           s (kJ/kgK)         x  \n",
       "0            1.838877         -  \n",
       "1            1.838877         -  \n",
       "2            1.896243         -  \n",
       "3  1.3021574440240267         0  \n",
       "4             1.34275  0.425923  "
      ]
     },
     "execution_count": 64,
     "metadata": {},
     "output_type": "execute_result"
    }
   ],
   "source": [
    "reftable"
   ]
  }
 ],
 "metadata": {
  "kernelspec": {
   "display_name": "Python 3.8.15 ('Python38')",
   "language": "python",
   "name": "python3"
  },
  "language_info": {
   "codemirror_mode": {
    "name": "ipython",
    "version": 3
   },
   "file_extension": ".py",
   "mimetype": "text/x-python",
   "name": "python",
   "nbconvert_exporter": "python",
   "pygments_lexer": "ipython3",
   "version": "3.8.15"
  },
  "orig_nbformat": 4,
  "vscode": {
   "interpreter": {
    "hash": "08454aa7af5b34d8de08d0bd0b536da1777dc7901f284f3150cb2d67d1ab4d30"
   }
  }
 },
 "nbformat": 4,
 "nbformat_minor": 2
}
