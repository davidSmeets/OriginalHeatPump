{
 "cells": [
  {
   "cell_type": "markdown",
   "metadata": {},
   "source": [
    "<center>\n",
    "<img src='Deerns-logo.jpg' height=\"100\">\n",
    "<center/>"
   ]
  },
  {
   "cell_type": "markdown",
   "metadata": {},
   "source": [
    "# COP Calculator\n",
    "\n"
   ]
  },
  {
   "cell_type": "code",
   "execution_count": 1,
   "metadata": {},
   "outputs": [],
   "source": [
    "import inputs\n",
    "import refdata as ref\n",
    "import isentropic_efficiency as isen\n",
    "import scopcalc\n",
    "import numpy\n",
    "from scipy import interpolate\n",
    "import pandas as pd\n",
    "import matplotlib.pyplot as plt"
   ]
  },
  {
   "cell_type": "markdown",
   "metadata": {},
   "source": [
    "### Log p-h diagram\n",
    "\n",
    "The thermodynamic properties of refrigerants used in heat pumps can be visualised in a log p-h diagram. The pressure is plotted on a logarithmic scale against the enthalpy (energy content) of the refrigerant. Log p-h diagrams are used in refrigeration technology to determine thermodynamic properties in a refrigeration cycle to evaluate its performance.\\\n",
    "\\\n",
    " The log p-h diagram consists of a couple of important features:\n",
    "- The quasi bell-shaped curve (saturation curve) in the middle of the graph indicates where the refrigerant is in a saturated state: either saturated liquid (bubble point) or saturated gas (dew point). \n",
    "- On the left side of the saturation curve, the refrigerant is in liquid phase, subcooled below its saturation temperature. \n",
    "- On the right side of the saturation curve the refrigerant is in gasseous state, superheated above its saturation temperature. \n",
    "- The area underneath the saturation curve indicates a two-phase zone, where both liquid and gasseous phases exist. Accordingly, this is the region where evaporation and condensation of the refrigerant takes place. The temperature in this region stays constant at constant pressure while the energy content rises due to the absorbing of latent heat."
   ]
  },
  {
   "cell_type": "code",
   "execution_count": 2,
   "metadata": {},
   "outputs": [],
   "source": [
    "# Plotting saturation curve\n",
    "fig, ax = plt.subplots()\n",
    "\n",
    "toplot_h_liq = ref.enthalpy_liquid_saturated\n",
    "toplot_h_gas = ref.enthalpy_gas_saturated\n",
    "\n",
    "toplot_p_gas = ref.pressure_saturated_gas\n",
    "toplot_p_liq = ref.pressure_saturated_liq\n",
    "\n",
    "ax.plot(toplot_h_liq, toplot_p_liq, color='k')\n",
    "ax.plot(toplot_h_gas, toplot_p_gas, color='k')\n",
    "\n",
    "plt.yscale('log')\n",
    "plt.xlabel(\"Enthalpy (kJ/kg)\")\n",
    "plt.ylabel(\"Pressure (bar)\")\n",
    "plt.title(\"Log p-h diagram for refrigerant \" + inputs.refrigerant)\n",
    "plt.grid(which = 'minor', linewidth=0.2)\n",
    "plt.grid(which = 'major', linewidth=1)\n",
    "plt.ylim(1, max(toplot_p_gas + 10))\n",
    "plt.close(fig)"
   ]
  },
  {
   "cell_type": "code",
   "execution_count": 3,
   "metadata": {},
   "outputs": [],
   "source": [
    "# # Plotting temperature lines\n",
    "# # Two phase region\n",
    "# toploth_sat_templine_l = ref.saturated_refrigerant_data['Enthalpy_liq']\n",
    "# toploth_sat_templine_g = ref.enthalpy_gas_saturated_func(toplot_p_gas)\n",
    "# toplot_label = ref.saturated_refrigerant_data['Temp_liq']\n",
    "# color = iter(plt.cm.rainbow(numpy.linspace(0.1, 1, len(toplot_p_gas))))\n",
    "\n",
    "# for xl, xg, yl, yg, label in zip(toploth_sat_templine_l, toploth_sat_templine_g, toplot_p_liq, toplot_p_gas, toplot_label):\n",
    "#     setcolor = next(color)\n",
    "#     ax.plot([xl,xg],[yl,yg], c = setcolor, linewidth = 0.75)\n",
    "\n",
    "#     label_x = xl + ((xg-xl) / 2)\n",
    "#     label_y = yl + ((yg-yl) / 2)\n",
    "#     ax.annotate(str(round(label)),xy=(label_x, label_y), size = 6)\n",
    "    \n",
    "# # Superheated region\n",
    "# mydata = ref.superheated_refrigerant_data\n",
    "\n",
    "# for myvalue in mydata.Temperature: \n",
    "#     if not float(myvalue).is_integer() or myvalue > max(toplot_label):\n",
    "#         mydata =  mydata.drop(mydata.index[mydata.Temperature == myvalue])\n",
    "        \n",
    "# grouped = mydata.groupby(by=['Temperature'])\n",
    "# reference = mydata.Temperature.drop_duplicates()\n",
    "# color2 = iter(plt.cm.rainbow(numpy.linspace(0.1, 1, len(toplot_p_gas))))\n",
    "\n",
    "# for plottemp in reference:\n",
    "#     df_toplot = grouped.get_group(plottemp)\n",
    "#     c2 = next(color2)\n",
    "#     ax.plot(df_toplot.Enthalpy, df_toplot.Pressure, c = c2, linewidth = 0.5)\n",
    "\n",
    "# fig.set_size_inches(11.7,8.3)\n",
    "# fig"
   ]
  },
  {
   "cell_type": "markdown",
   "metadata": {},
   "source": [
    "### Evaporator temperature\n",
    "The temperature of the refrigerant in the evaporator (cold side) in $\\degree C $ .\\\n",
    "Default values from EN-15316 are used to 'model' the heat transfer between source and evaporator as a temperature difference.\n",
    "\n",
    "<center>\n",
    "\n",
    "|Source|$\\Delta T_e \\:(K) $|\n",
    "|-|-|\n",
    "|Air|6|\n",
    "|Water|6|\n",
    "|Brine|7|\n",
    "\n",
    "</center>\n",
    "\n",
    "In EN-15316, only $\\Delta T_e$ values for water and air sources are given. Based on the change in heat transfer coefficient for average water/ethylene glycol mixtures (brine), the temperature factor for brine sources is corrected with a correction factor of 0.86.\n"
   ]
  },
  {
   "cell_type": "code",
   "execution_count": 4,
   "metadata": {},
   "outputs": [],
   "source": [
    "if inputs.delta_T_source_evaporator_selector == 'Default (EN-15316)':\n",
    "    if inputs.source_type == 'Air':\n",
    "        delta_T_source_evaporator = 6\n",
    "    elif inputs.source_type == 'Water':\n",
    "        delta_T_source_evaporator = 6\n",
    "    elif inputs.source_type == 'Brine':\n",
    "        delta_T_source_evaporator = 6 / 0.84\n",
    "elif inputs.delta_T_source_evaporator_selector == 'Value':\n",
    "    delta_T_source_evaporator =  inputs.delta_T_source_evaporator_value\n",
    "\n",
    "evaporator_temp = inputs.source_temp - delta_T_source_evaporator"
   ]
  },
  {
   "attachments": {},
   "cell_type": "markdown",
   "metadata": {},
   "source": [
    "### Condensor temperature\n",
    "The temperature of the refrigerant in the condensor (hot side) in $\\degree C$\\\n",
    "Default values from EN-15316 are used to 'model' the heat transfer between sink and condensor as a temperature difference, dependant on the type of source.\n",
    "\n",
    "<center>\n",
    "\n",
    "|Sink|$\\Delta T_c \\:(K) $|\n",
    "|---|---|\n",
    "|Air|12|\n",
    "|Water|5|\n",
    "\n",
    "</center>\n",
    "\n",
    "In case the sink type 'Water' is selected, the user is prompted to enter the water return temperature. In this case, the condensor temperature is calculated according to:\n",
    "\n",
    "\\begin{equation}\n",
    "T_c = -\\frac{T_r - T_s\\cdot\\exp(\\frac{T_r - T_s}{\\Delta T_{log}})}{\\exp(\\frac{T_s - T_r}{\\Delta T_{log}}) - 1}\n",
    "\\end{equation}\n",
    "\n",
    "With $ T_r $ and $ T_s $ being return and supply temperature, respectively, and  $ \\Delta T_{log} $ being the logaritmic mean temperature difference between the heating water and the refrigerant in the condensor. (source: Maivel, M. & Kurnitski, J. (2015). https://doi.org/10.1016/j.enbuild.2015.02.048)"
   ]
  },
  {
   "cell_type": "code",
   "execution_count": 5,
   "metadata": {},
   "outputs": [],
   "source": [
    "if inputs.delta_T_sink_condensor_selector == 'Default (EN-15316)':\n",
    "    if inputs.sink_type == 'Air':\n",
    "        delta_T_sink_condensor = 12\n",
    "        condensor_temp = inputs.sink_temp + delta_T_sink_condensor\n",
    "\n",
    "    elif inputs.sink_type == 'Water':\n",
    "        delta_T_sink_condensor = 5\n",
    "        supply_temp = inputs.sink_temp\n",
    "        return_temp = inputs.sink_temp_return\n",
    "\n",
    "        condensor_temp = (-(return_temp-supply_temp*numpy.exp((supply_temp\n",
    "                        - return_temp)/delta_T_sink_condensor)) / (numpy.exp(\n",
    "                        (supply_temp-return_temp) / delta_T_sink_condensor)-1)) \\\n",
    "                        + delta_T_sink_condensor\n",
    "elif inputs.delta_T_sink_condensor_selector == 'Value':\n",
    "    delta_T_sink_condensor = inputs.delta_T_sink_condensor_value\n",
    "    condensor_temp = inputs.sink_temp + delta_T_sink_condensor\n"
   ]
  },
  {
   "cell_type": "markdown",
   "metadata": {},
   "source": [
    "### Check limits\n",
    "\n",
    "To make sure a realistic calculation can be carried out, the limits of the refrigerant's thermodynamic properties are evaluated based on evaporator- and condensortemperature.\n",
    "\n",
    "Some values are also evaluated according to EN-15316, which specifies boundary conditions for maximum evaporator temperature $\\theta_{gen;in}$, minimum temperature difference between condensor and sink $\\Delta T_{c,min} $, and minimum leaving water temperature in the condensor $\\theta_{lw, min} $ (in case of water sink).\n",
    "\n",
    "<center>\n",
    "\n",
    "|Boundary condition|Value|\n",
    "|-|-|\n",
    "|$\\theta_{gen;in}$| $ 10 \\degree C$|\n",
    "|$\\Delta T_{c,min} $ | $ 4\\: K$|\n",
    "|$\\theta_{lw, min} $ | $ 25 \\degree C$|\n",
    "\n",
    "</center>\n"
   ]
  },
  {
   "cell_type": "code",
   "execution_count": 6,
   "metadata": {},
   "outputs": [],
   "source": [
    "if condensor_temp > ref.bounds[1]:\n",
    "    print('\\033[91m Error: Sink temperature out of bounds for chosen refrigerant. (max. ' + str(ref.bounds[1] - delta_T_sink_condensor) + ' °C)')\n",
    "\n",
    "if evaporator_temp < ref.bounds[0]:\n",
    "    print('\\033[91m Error: Source temperature out of bounds for chosen refrigerant. (min. ' + str(ref.bounds[0] + delta_T_source_evaporator) + ' °C)')\n",
    "\n",
    "if inputs.sink_temp < 25 and inputs.sink_type == 'Water':\n",
    "    print('\\033[93m Warning, leaving water temperature must be higher than 25 degrees')\n",
    "\n",
    "if evaporator_temp > 10:\n",
    "    print('\\033[93m Warning: Source temperature out of bounds according to EN-15316 (max. ' + str(10 + delta_T_source_evaporator) + ' °C)')\n",
    "\n",
    "if delta_T_sink_condensor < 4:\n",
    "    print('\\033[93m Warning: Temperature difference condensor-sink out of bounds according to EN-15316. (min. 4 K)')\n",
    "\n",
    "if inputs.delta_T_superheat_suction < 5:\n",
    "    print('\\033[93m Warning: Compressor suction superheat is less than 5K, risk of liquid flooding.')"
   ]
  },
  {
   "cell_type": "markdown",
   "metadata": {},
   "source": [
    "### 1. Compressor intake\n",
    "\n",
    "Although the refrigerant theoretically should be in the saturated gas stage, in practical situations it is superheated above the saturation temperature to avoid liquid refrigerant entering the compressor. Thus the thermodynamic properties at the compressor intake are calculated based on the calculated evaporator temperature and the amount of superheat in the suction line. \\\n",
    "\\\n",
    "The values for enthalpy (h) and entropy (s) are calculated as a function of the amount of superheat and pressure at the intake.\n"
   ]
  },
  {
   "cell_type": "code",
   "execution_count": 7,
   "metadata": {},
   "outputs": [],
   "source": [
    "p1 = ref.pressure_saturated_liq_func(evaporator_temp)[()]\n",
    "t1 = evaporator_temp + inputs.delta_T_superheat_suction\n",
    "h1 = ref.enthalpy_superheated_func(inputs.delta_T_superheat_suction, p1)[0]\n",
    "s1 = interpolate.bisplev(inputs.delta_T_superheat_suction, p1, ref.entropy_superheated_func)"
   ]
  },
  {
   "cell_type": "markdown",
   "metadata": {},
   "source": [
    "Vapor quality (x) is only apllicable if the refrigerant is evaporating or condensing ( 0 < x < 1 ), or when the refrigerant is in either saturated liquid stage (x = 0) or saturated gasseous state (x = 1)."
   ]
  },
  {
   "cell_type": "code",
   "execution_count": 8,
   "metadata": {},
   "outputs": [],
   "source": [
    "if inputs.delta_T_superheat_suction == 0:\n",
    "    x1 = 1\n",
    "else:\n",
    "    x1 = '-'"
   ]
  },
  {
   "cell_type": "markdown",
   "metadata": {},
   "source": [
    "### 2s. Compressor output (isentropic)\n",
    "The thermodynamic properties are calculated, based on the isentropic nature of an ideal compression cycle, thus assuming equal entropy in compressor intake and outlet.\\\n",
    "Furthermore, different parameters are checked against boundary conditions given in EN-15316."
   ]
  },
  {
   "cell_type": "code",
   "execution_count": 9,
   "metadata": {},
   "outputs": [],
   "source": [
    "p2s = ref.pressure_saturated_liq_func(condensor_temp) # Calculated from sat. liquid side, works better with refrigerant blends\n",
    "s2s = s1\n",
    "dt2s = interpolate.bisplev(s2s, p2s, ref.dt_s_superheated_func)\n",
    "t2s = condensor_temp + dt2s\n",
    "x2s = '-'\n",
    "h2s = ref.enthalpy_superheated_func(dt2s, p2s)[0]"
   ]
  },
  {
   "cell_type": "markdown",
   "metadata": {},
   "source": [
    "To estimate the isentropic efficiency, the pressure ratio is calculated. Together with the ideal pressure ratio (default: 3) and the type of compressor, the isentropic efficiency is estimated (source*: J. Campbell, (2011). https://bit.ly/2VhjlOv)"
   ]
  },
  {
   "cell_type": "code",
   "execution_count": 10,
   "metadata": {},
   "outputs": [],
   "source": [
    "pressureratio = p2s/p1\n",
    "ideal = inputs.ideal_pressure_ratio\n",
    "isentropic_efficiency = isen.getefficiency(pressureratio)"
   ]
  },
  {
   "cell_type": "markdown",
   "metadata": {},
   "source": [
    "### 2. Compressor output (real)\n",
    "The properties of point 2s are corrected for isentropic efficiency, defined as:\n",
    "\n",
    "\n",
    "\n",
    "\\begin{equation}\n",
    "\\eta_{is} = \\frac{h_{2s}-h_1}{h_2-h_1}\n",
    "\\end{equation}\n",
    "\n"
   ]
  },
  {
   "cell_type": "code",
   "execution_count": 11,
   "metadata": {},
   "outputs": [],
   "source": [
    "p2 = p2s\n",
    "h2 = h1 + (h2s-h1) / isentropic_efficiency\n",
    "dt2 = interpolate.bisplev(h2, p2, ref.dt_h_superheated_func)\n",
    "t2 = condensor_temp + dt2\n",
    "s2 = interpolate.bisplev(dt2, p2, ref.entropy_superheated_func)[()]\n",
    "x2 = '-'"
   ]
  },
  {
   "cell_type": "markdown",
   "metadata": {},
   "source": [
    "### 3. Expansion valve intake\n",
    "\n",
    "First, the saturated gas properties are compared to the saturated liquid properties. In case of refrigerant mixtures (r4xxx etc.), temperature in saturated gaseous state will vary from the temperature of saturated liquid state at equal pressures, due to the zeotropic nature of these mixtures (temperature glide). \\\n",
    "Next, the remaining properties are calculated, assuming that the refrigerant is in saturated liquid state. Vapor quality x will therefore always be 0."
   ]
  },
  {
   "cell_type": "code",
   "execution_count": 12,
   "metadata": {},
   "outputs": [],
   "source": [
    "p3 = p2\n",
    "t3 = ref.temp_liquid_saturated_func(p3)\n",
    "h3 = ref.enthalpy_liquid_saturated_func(p3)\n",
    "s3 = ref.entropy_liquid_saturated_func(p3)\n",
    "x3 = 0"
   ]
  },
  {
   "cell_type": "markdown",
   "metadata": {},
   "source": [
    "### 4. Expansion valve outlet\n",
    "The properties of the refrigerant at the expansion valve outlet are calculated assuming isenthalp (equal enthalpy) behaviour of the expansion valve. Furthermore, temperature and pressure wil return to the values of point 1 (evaporator).\n"
   ]
  },
  {
   "cell_type": "code",
   "execution_count": 13,
   "metadata": {},
   "outputs": [],
   "source": [
    "p4 = p1\n",
    "t4 = t1\n",
    "h4 = h3"
   ]
  },
  {
   "cell_type": "markdown",
   "metadata": {},
   "source": [
    "Calculation of vapor quality is necessary in order to calculate the entropy value in point 4. Vapor quality at point $i$ is defined as:\n",
    "\n",
    "\\begin{equation}\n",
    "\n",
    "x_i = \\frac{h_i-h_l}{h_g-h_l}\n",
    "\n",
    "\\end{equation}\n",
    "\n",
    "Where $h_l$ and $h_g$ are the enthalpy values of saturated liquid and saturated gas at equal pressure $p_i$, respectively."
   ]
  },
  {
   "cell_type": "code",
   "execution_count": 14,
   "metadata": {},
   "outputs": [],
   "source": [
    "hl = ref.enthalpy_liquid_saturated_func(p4)\n",
    "hg = ref.enthalpy_gas_saturated_func(p1)\n",
    "x4 = (h4-hl) / (hg-hl)"
   ]
  },
  {
   "cell_type": "markdown",
   "metadata": {},
   "source": [
    "Equal to the defenition mentioned above, vapor quality at point $i$ is defined as:\n",
    "\n",
    "\\begin{equation}\n",
    "\n",
    "x_i = \\frac{s_i-s_l}{s_g-s_l}\n",
    "\n",
    "\\end{equation}\n",
    "\n",
    "Consequently, entropy in point $i$ can be calculated:\n",
    "\\begin{equation}\n",
    "s_i = s_l + x_i \\cdot (s_g-s_l)\n",
    "\\end{equation}\n",
    "\n",
    "Note that this value is solely of interest for completeness of the table of refrigerant properties."
   ]
  },
  {
   "cell_type": "code",
   "execution_count": 15,
   "metadata": {},
   "outputs": [],
   "source": [
    "sl = ref.entropy_liquid_saturated_func(p4)\n",
    "sg = ref.entropy_gas_saturated_func(p1)\n",
    "s4 = sl + x4 * (sg-sl)"
   ]
  },
  {
   "cell_type": "markdown",
   "metadata": {},
   "source": [
    "### COP calculation\n",
    "The *coefficient of performance* (COP) of a heat pump is caculated as the quotient of the useful energy (heat flow) delivered by the heat pump $\\dot{Q}$ and the electrical power consumption of the compressor $\\dot{E}$:\n",
    "\n",
    "\\begin{equation}\n",
    "COP = \\frac{\\dot{Q}}{\\dot{E}}\n",
    "\\end{equation}\n",
    "\n",
    "$\\dot{Q}$ and $\\dot{E}$ can be calculated from the thermodynamic properties calculated in the various points as mentioned above, specifically utilising the enthalpy values:\n",
    "\n",
    "\\begin{equation}\n",
    "\n",
    "\\dot{Q} = \\dot{m}\\cdot\\Delta h_{condensor} \n",
    "\n",
    "\\end{equation}\n",
    "\n",
    "\\begin{equation}\n",
    "\n",
    "\\dot{E} = \\dot{m}\\cdot\\Delta h_{compressor}\n",
    "\n",
    "\\end{equation}\n",
    "\n",
    "With $\\dot{m}$ being the mass flow of refrigerant in the cycle.\\\n",
    "Combining above equations gives:\n",
    "\n",
    "\\begin{equation}\n",
    "\n",
    "COP = \\frac{\\Delta h_{condensor}}{\\Delta h_{compressor}}\n",
    "\n",
    "\\end{equation}\n",
    "\n",
    "or:\n",
    "\n",
    "\\begin{equation}\n",
    "\n",
    "COP = \\frac{\\Delta h_3 - h_2}{\\Delta h_2 -h_1}\n",
    "\n",
    "\\end{equation}\n",
    "\n",
    "Furthermore, the efficiency of the (assumed electric) motor driving the heat pump compressor is considered, with a default value of $\\eta_{motor} = 0.85 $, such that:\n",
    "\n",
    "\\begin{equation}\n",
    "\n",
    "\\Delta h_{compressor} = \\frac{h_2-h1}{\\eta_{motor}}\n",
    "\n",
    "\\end{equation}\n"
   ]
  },
  {
   "cell_type": "code",
   "execution_count": 16,
   "metadata": {},
   "outputs": [],
   "source": [
    "delta_h_compressor = (h2-h1) / (inputs.motor_efficiency/100)\n",
    "delta_h_condensor = h2 - h3\n",
    "delta_h_evaporator = h1 - h4\n",
    "cop = delta_h_condensor/delta_h_compressor"
   ]
  },
  {
   "cell_type": "markdown",
   "metadata": {},
   "source": [
    "### Carnot COP\n",
    "The Carnot coefficient of performance, or Carnot COP is the maximum COP a heat transfer system can achieve. Due to several losses, the 'real' COP will always be lower. The Carnot COP is calculated according to:\n",
    "\n",
    "\\begin{equation}\n",
    "\n",
    "COP_{Carnot} = \\frac{T_{condensor}}{T_{condensor}-T_{evaporator}}\n",
    "\n",
    "\\end{equation}\n",
    "\n",
    "\n",
    "\n",
    "\n",
    "\n",
    "The Carnot efficiency (also: exergetic efficiency) is defined as the quotient of the 'real' COP and the Carnot COP:\n",
    "\n",
    "\\begin{equation}\n",
    "\n",
    "\\eta_{exer} = \\frac{COP_{gen}}{COP_{Carnot}}\n",
    "\n",
    "\\end{equation}\n",
    "\n",
    "(Source: EN-15316-4-2, 2022, p 51.)"
   ]
  },
  {
   "cell_type": "code",
   "execution_count": 17,
   "metadata": {},
   "outputs": [],
   "source": [
    "cop_carnot = (condensor_temp+273.15) / (condensor_temp-evaporator_temp)\n",
    "carnot_efficiency = cop / cop_carnot"
   ]
  },
  {
   "cell_type": "markdown",
   "metadata": {},
   "source": [
    "Creating a table containing the refrigerant's thermodynamic properties at each point in the cycle. Point '$2s$' indicates the isentropic point (ideal compression). "
   ]
  },
  {
   "cell_type": "code",
   "execution_count": 18,
   "metadata": {},
   "outputs": [],
   "source": [
    "# Creating table\n",
    "reftable = pd.DataFrame(\n",
    "    [\n",
    "        ['1', t1, p1, h1, s1, x1], \n",
    "        ['2s', t2s, p2s, h2s, s2s, x2s], \n",
    "        ['2', t2, p2, h2, s2, x2], \n",
    "        ['3', t3, p3, h3, s3, x3], \n",
    "        ['4', t4, p4, h4, s4, x4], \n",
    "    ]\n",
    ")\n",
    "\n",
    "reftable.columns = ['point', 'T (°C)', 'p (bar)', 'h (kJ/kg)', \n",
    "                's (kJ/kgK)', 'x']\n",
    "\n",
    "\n",
    "reftable = reftable.set_index('point', append=False)"
   ]
  },
  {
   "cell_type": "code",
   "execution_count": 19,
   "metadata": {},
   "outputs": [
    {
     "data": {
      "text/html": [
       "<div>\n",
       "<style scoped>\n",
       "    .dataframe tbody tr th:only-of-type {\n",
       "        vertical-align: middle;\n",
       "    }\n",
       "\n",
       "    .dataframe tbody tr th {\n",
       "        vertical-align: top;\n",
       "    }\n",
       "\n",
       "    .dataframe thead th {\n",
       "        text-align: right;\n",
       "    }\n",
       "</style>\n",
       "<table border=\"1\" class=\"dataframe\">\n",
       "  <thead>\n",
       "    <tr style=\"text-align: right;\">\n",
       "      <th></th>\n",
       "      <th>T (°C)</th>\n",
       "      <th>p (bar)</th>\n",
       "      <th>h (kJ/kg)</th>\n",
       "      <th>s (kJ/kgK)</th>\n",
       "      <th>x</th>\n",
       "    </tr>\n",
       "    <tr>\n",
       "      <th>point</th>\n",
       "      <th></th>\n",
       "      <th></th>\n",
       "      <th></th>\n",
       "      <th></th>\n",
       "      <th></th>\n",
       "    </tr>\n",
       "  </thead>\n",
       "  <tbody>\n",
       "    <tr>\n",
       "      <th>1</th>\n",
       "      <td>6</td>\n",
       "      <td>3.0418</td>\n",
       "      <td>403.67</td>\n",
       "      <td>1.746769</td>\n",
       "      <td>-</td>\n",
       "    </tr>\n",
       "    <tr>\n",
       "      <th>2s</th>\n",
       "      <td>53.283027</td>\n",
       "      <td>10.999972620943746</td>\n",
       "      <td>432.494979</td>\n",
       "      <td>1.746769</td>\n",
       "      <td>-</td>\n",
       "    </tr>\n",
       "    <tr>\n",
       "      <th>2</th>\n",
       "      <td>63.577818</td>\n",
       "      <td>10.999972620943746</td>\n",
       "      <td>443.362779</td>\n",
       "      <td>1.778318</td>\n",
       "      <td>-</td>\n",
       "    </tr>\n",
       "    <tr>\n",
       "      <th>3</th>\n",
       "      <td>42.90988353434663</td>\n",
       "      <td>10.999972620943746</td>\n",
       "      <td>260.79228460272606</td>\n",
       "      <td>1.2039674409648637</td>\n",
       "      <td>0</td>\n",
       "    </tr>\n",
       "    <tr>\n",
       "      <th>4</th>\n",
       "      <td>6</td>\n",
       "      <td>3.0418</td>\n",
       "      <td>260.79228460272606</td>\n",
       "      <td>1.221622</td>\n",
       "      <td>0.300475</td>\n",
       "    </tr>\n",
       "  </tbody>\n",
       "</table>\n",
       "</div>"
      ],
      "text/plain": [
       "                  T (°C)             p (bar)           h (kJ/kg)  \\\n",
       "point                                                              \n",
       "1                      6              3.0418              403.67   \n",
       "2s             53.283027  10.999972620943746          432.494979   \n",
       "2              63.577818  10.999972620943746          443.362779   \n",
       "3      42.90988353434663  10.999972620943746  260.79228460272606   \n",
       "4                      6              3.0418  260.79228460272606   \n",
       "\n",
       "               s (kJ/kgK)         x  \n",
       "point                                \n",
       "1                1.746769         -  \n",
       "2s               1.746769         -  \n",
       "2                1.778318         -  \n",
       "3      1.2039674409648637         0  \n",
       "4                1.221622  0.300475  "
      ]
     },
     "execution_count": 19,
     "metadata": {},
     "output_type": "execute_result"
    }
   ],
   "source": [
    "reftable"
   ]
  },
  {
   "cell_type": "markdown",
   "metadata": {},
   "source": [
    "### Refrigerant cycle\n",
    "\n",
    "Each point in the cycle is plotted in the log p-h diagram to visualise the refrigerant cycle. The red point indicates the isentropic point '$2s$'."
   ]
  },
  {
   "cell_type": "code",
   "execution_count": 20,
   "metadata": {},
   "outputs": [
    {
     "data": {
      "image/png": "[encoded data removed]",
      "text/plain": [
       "<Figure size 640x480 with 1 Axes>"
      ]
     },
     "execution_count": 20,
     "metadata": {},
     "output_type": "execute_result"
    }
   ],
   "source": [
    "# Plot cycle\n",
    "\n",
    "ax.plot(reftable['h (kJ/kg)'] , reftable['p (bar)'], '.b')\n",
    "ax.plot([h1,h2,h3,h4,h1] , [p1,p2,p3,p4,p1], 'b')\n",
    "ax.plot(h2s,p2s, '.r')\n",
    "\n",
    "ax.annotate('1', xy = (h1,p1-0.3), size = 11)\n",
    "ax.annotate('2', xy = (h2+1,p2+0.1), size = 11)\n",
    "ax.annotate('3', xy = (h3-5,p3+0.1), size = 11)\n",
    "ax.annotate('4', xy = (h4-5,p4-0.3), size = 11)\n",
    "\n",
    "if not isentropic_efficiency == 1:\n",
    "    ax.annotate('2s', xy = (h2s-2,p2s+0.3))\n",
    "\n",
    "fig"
   ]
  },
  {
   "cell_type": "markdown",
   "metadata": {},
   "source": [
    "Calculating the refrigerant mass flow rate in case of sink type water, the volume flow of the water in $kg/s$ and $m^3/s$ respecitively. Assuming $\\rho_{water} = 998 \\: kg/m^3$ and $c = 4.2 \\: kJ/kgK$."
   ]
  },
  {
   "cell_type": "code",
   "execution_count": 21,
   "metadata": {},
   "outputs": [],
   "source": [
    "mass_flowrate_refrigerant_kgs = inputs.capacity/delta_h_condensor\n",
    "RHO_C = 998*4.2\n",
    "if inputs.sink_type == 'Water':\n",
    "    volume_rate_water_m3s = inputs.capacity / ((inputs.sink_temp - inputs.sink_temp_return)*RHO_C)\n",
    "    round(volume_rate_water_m3s,5)\n",
    "else:\n",
    "    volume_rate_water_m3s = '-'\n",
    "electric_power_kw = inputs.capacity/cop\n",
    "cooling_capacity_kw = mass_flowrate_refrigerant_kgs * delta_h_evaporator\n",
    "eer = cooling_capacity_kw/electric_power_kw"
   ]
  },
  {
   "cell_type": "markdown",
   "metadata": {},
   "source": [
    "### Part load conditions\n",
    "\n",
    "Part load behaviour for inverter heat pumps is evaluated using the calculation methods given in EN-15316, assuming the following default values:\n",
    "- Degradation coefficient $ C_D = 0.2 $\n",
    "- Optimal part load ratio $plr_{opt} = 0.6 $\n",
    "- Minimum part load ratio for continuous operation $plr_{min} = 0.2 $"
   ]
  },
  {
   "attachments": {},
   "cell_type": "markdown",
   "metadata": {},
   "source": [
    "\n",
    "### SCOP\n",
    "In EN-14825 (2022), default calculation methods are given for the determination of the seasonal coefficient of performance (SCOP). It should be noted that these methods yield only a rough estimation for SCOP, based on three standard climates. Real SCOP values can differ strongly from the output of this calculation. \\\n",
    "The SCOP is defined as follows:\n",
    "\n",
    "\\begin{equation}\n",
    "\n",
    "SCOP = \\frac{Q_H}{Q_{HE}}\n",
    "\n",
    "\\end{equation}\n",
    "\n",
    "Where:\\\n",
    "$Q_H$ is the yearly heat demand of the building (kWh)\\\n",
    "$Q_{HE}$ is the yearly energy usage of the heat pump (kWh)\n",
    "\n",
    "Furthermore:\n",
    "\n",
    "\\begin{equation}\n",
    "\n",
    "Q_H = P_{design} \\cdot H_{HE}\n",
    "\n",
    "\\end{equation}\n",
    "\n",
    "Where:\\\n",
    "$P_{design}$ is the design heat load of the building\\\n",
    "$H_{HE}$ is the time the heat pump is active (h)\n",
    "\n",
    "Default values are given for $H_{HE}$ in EN-14825, based on the type of source and sink, the capacity, and the climate the heat pump is installed in.\n",
    "\n",
    "<center>\n",
    "\n",
    "|Source/sink|Capacity|Average climate|Warmer climate|Colder climate|\n",
    "|-|-|-|-|-|\n",
    "|Air/air|All|1400|1400|2100|\n",
    "|Air/water| <400 kW|2066|1336|2465|\n",
    "|Water/water| <400 kW|2066|1336|2465|\n",
    "|Water/air|All|1400|1400|2100|\n",
    "\n",
    "</center>\n",
    "\n",
    "Furthermore:\n",
    "\n",
    "\\begin{equation}\n",
    "\n",
    "Q_{HE} = \\frac{Q_H}{SCOP_{on}} + Q_{other}\n",
    "\n",
    "\\end{equation}\n",
    "\n",
    "Where $Q_{other}$ (kWh) is the energy used by the heat pump in different modes than normal operation (Thermostat-off mode, Standby mode, Crankcase heater mode, Off mode). Values can be given by the manufacturer, but this is not often the case. Default values are given in EN-14825. \\\n",
    "And:\n",
    "\n",
    "\\begin{equation}\n",
    "\n",
    "SCOP_{on} = \\frac{\\Sigma^{n}_{j=1} h_j[P_h (T_j)]}{\\Sigma^{n}_{j=1} h_j [ \\frac{P_h (T_j)}{COP_{bin} (T_j)} ] }\n",
    "\n",
    "\\end{equation}\n",
    "\n",
    "Where:\\\n",
    "$j$ is the so called bin number representing an outside temperature $T_j$, \\\n",
    "$h_j$ is the yearly amount of hours $T_j$ is applicable for the chosen climate, \\\n",
    "$P_h(T_j)$ is the power used by the heat pump for bin $j$, \\\n",
    "$COP_{bin} (T_j)$ is the coefficient of performance for the corresponding bin $j$.\n",
    "\n",
    "Again, default values are given for $h_j$. $COP_{bin}$ values are calculated using the part load parameters mentioned above. Further details can be found in EN-14825, §7.3 through §7.7."
   ]
  },
  {
   "cell_type": "code",
   "execution_count": 22,
   "metadata": {},
   "outputs": [
    {
     "name": "stdout",
     "output_type": "stream",
     "text": [
      "\u001b[93m Warning: design source temp. higher than lowest seasonal source temp. (assumed supplementary heater)\n"
     ]
    },
    {
     "data": {
      "image/png": "[encoded data removed]",
      "text/plain": [
       "<Figure size 640x480 with 1 Axes>"
      ]
     },
     "metadata": {},
     "output_type": "display_data"
    }
   ],
   "source": [
    "[COPbin_toplot, plotrange, scop] = scopcalc.getscop(cop)\n",
    "func2 = interpolate.interp1d(plotrange, COPbin_toplot, kind = 'quadratic')\n",
    "xx = numpy.linspace(0,1,10)\n",
    "plt.plot(xx, func2(xx),'b')\n",
    "plt.title('Part load behaviour for inverter heat pumps according to EN-15316')\n",
    "plt.xlabel('Part load ratio (-)')\n",
    "plt.ylabel('COP (-)')\n",
    "plt.grid()"
   ]
  },
  {
   "cell_type": "code",
   "execution_count": 23,
   "metadata": {},
   "outputs": [],
   "source": [
    "outputtable = pd.DataFrame(\n",
    "    [\n",
    "        ['COP',str(round(cop,2))],\n",
    "        ['SCOP', round(scop,2)],\n",
    "        ['Carnot COP', round(cop_carnot,2)], \n",
    "        ['Carnot efficiency (%)', round(carnot_efficiency,3)*100], \n",
    "        ['Electric power (kW)', round(electric_power_kw,1)], \n",
    "        ['Cooling capacity (kW)', round(cooling_capacity_kw,1)],\n",
    "        ['EER', round(eer,2)],\n",
    "        ['Refrigerant mass flow rate (kg/s)', round(mass_flowrate_refrigerant_kgs,4)],\n",
    "        [ 'Water volume flow rate (kg/s)', volume_rate_water_m3s]\n",
    "    ]   \n",
    ")\n",
    "\n",
    "outputtable.columns = ['Output', 'value']"
   ]
  },
  {
   "cell_type": "code",
   "execution_count": 24,
   "metadata": {},
   "outputs": [
    {
     "data": {
      "text/html": [
       "<div>\n",
       "<style scoped>\n",
       "    .dataframe tbody tr th:only-of-type {\n",
       "        vertical-align: middle;\n",
       "    }\n",
       "\n",
       "    .dataframe tbody tr th {\n",
       "        vertical-align: top;\n",
       "    }\n",
       "\n",
       "    .dataframe thead th {\n",
       "        text-align: right;\n",
       "    }\n",
       "</style>\n",
       "<table border=\"1\" class=\"dataframe\">\n",
       "  <thead>\n",
       "    <tr style=\"text-align: right;\">\n",
       "      <th></th>\n",
       "      <th>Output</th>\n",
       "      <th>value</th>\n",
       "    </tr>\n",
       "  </thead>\n",
       "  <tbody>\n",
       "    <tr>\n",
       "      <th>0</th>\n",
       "      <td>COP</td>\n",
       "      <td>4.14</td>\n",
       "    </tr>\n",
       "    <tr>\n",
       "      <th>1</th>\n",
       "      <td>SCOP</td>\n",
       "      <td>3.94</td>\n",
       "    </tr>\n",
       "    <tr>\n",
       "      <th>2</th>\n",
       "      <td>Carnot COP</td>\n",
       "      <td>7.54</td>\n",
       "    </tr>\n",
       "    <tr>\n",
       "      <th>3</th>\n",
       "      <td>Carnot efficiency (%)</td>\n",
       "      <td>54.9</td>\n",
       "    </tr>\n",
       "    <tr>\n",
       "      <th>4</th>\n",
       "      <td>Electric power (kW)</td>\n",
       "      <td>2.4</td>\n",
       "    </tr>\n",
       "    <tr>\n",
       "      <th>5</th>\n",
       "      <td>Cooling capacity (kW)</td>\n",
       "      <td>7.8</td>\n",
       "    </tr>\n",
       "    <tr>\n",
       "      <th>6</th>\n",
       "      <td>EER</td>\n",
       "      <td>3.24</td>\n",
       "    </tr>\n",
       "    <tr>\n",
       "      <th>7</th>\n",
       "      <td>Refrigerant mass flow rate (kg/s)</td>\n",
       "      <td>0.0548</td>\n",
       "    </tr>\n",
       "    <tr>\n",
       "      <th>8</th>\n",
       "      <td>Water volume flow rate (kg/s)</td>\n",
       "      <td>0.000477</td>\n",
       "    </tr>\n",
       "  </tbody>\n",
       "</table>\n",
       "</div>"
      ],
      "text/plain": [
       "                              Output     value\n",
       "0                                COP      4.14\n",
       "1                               SCOP      3.94\n",
       "2                         Carnot COP      7.54\n",
       "3              Carnot efficiency (%)      54.9\n",
       "4                Electric power (kW)       2.4\n",
       "5              Cooling capacity (kW)       7.8\n",
       "6                                EER      3.24\n",
       "7  Refrigerant mass flow rate (kg/s)    0.0548\n",
       "8      Water volume flow rate (kg/s)  0.000477"
      ]
     },
     "execution_count": 24,
     "metadata": {},
     "output_type": "execute_result"
    }
   ],
   "source": [
    "outputtable"
   ]
  },
  {
   "cell_type": "code",
   "execution_count": 25,
   "metadata": {},
   "outputs": [
    {
     "data": {
      "text/html": [
       "<div>\n",
       "<style scoped>\n",
       "    .dataframe tbody tr th:only-of-type {\n",
       "        vertical-align: middle;\n",
       "    }\n",
       "\n",
       "    .dataframe tbody tr th {\n",
       "        vertical-align: top;\n",
       "    }\n",
       "\n",
       "    .dataframe thead th {\n",
       "        text-align: right;\n",
       "    }\n",
       "</style>\n",
       "<table border=\"1\" class=\"dataframe\">\n",
       "  <thead>\n",
       "    <tr style=\"text-align: right;\">\n",
       "      <th></th>\n",
       "      <th>0</th>\n",
       "      <th>1</th>\n",
       "    </tr>\n",
       "  </thead>\n",
       "  <tbody>\n",
       "    <tr>\n",
       "      <th>0</th>\n",
       "      <td>Sink</td>\n",
       "      <td>Water</td>\n",
       "    </tr>\n",
       "    <tr>\n",
       "      <th>1</th>\n",
       "      <td>Source</td>\n",
       "      <td>Air</td>\n",
       "    </tr>\n",
       "    <tr>\n",
       "      <th>2</th>\n",
       "      <td>Sink temperature (°C)</td>\n",
       "      <td>35</td>\n",
       "    </tr>\n",
       "    <tr>\n",
       "      <th>3</th>\n",
       "      <td>Sink temperature (return) (°C)</td>\n",
       "      <td>30</td>\n",
       "    </tr>\n",
       "    <tr>\n",
       "      <th>4</th>\n",
       "      <td>Source temperature (°C)</td>\n",
       "      <td>7</td>\n",
       "    </tr>\n",
       "    <tr>\n",
       "      <th>5</th>\n",
       "      <td>Refrigerant</td>\n",
       "      <td>r134a</td>\n",
       "    </tr>\n",
       "    <tr>\n",
       "      <th>6</th>\n",
       "      <td>Capacity (kW)</td>\n",
       "      <td>10</td>\n",
       "    </tr>\n",
       "  </tbody>\n",
       "</table>\n",
       "</div>"
      ],
      "text/plain": [
       "                                0      1\n",
       "0                            Sink  Water\n",
       "1                          Source    Air\n",
       "2           Sink temperature (°C)     35\n",
       "3  Sink temperature (return) (°C)     30\n",
       "4         Source temperature (°C)      7\n",
       "5                     Refrigerant  r134a\n",
       "6                   Capacity (kW)     10"
      ]
     },
     "execution_count": 25,
     "metadata": {},
     "output_type": "execute_result"
    }
   ],
   "source": [
    "inputs.inputtable"
   ]
  },
  {
   "cell_type": "code",
   "execution_count": 26,
   "metadata": {},
   "outputs": [
    {
     "data": {
      "text/html": [
       "<div>\n",
       "<style scoped>\n",
       "    .dataframe tbody tr th:only-of-type {\n",
       "        vertical-align: middle;\n",
       "    }\n",
       "\n",
       "    .dataframe tbody tr th {\n",
       "        vertical-align: top;\n",
       "    }\n",
       "\n",
       "    .dataframe thead th {\n",
       "        text-align: right;\n",
       "    }\n",
       "</style>\n",
       "<table border=\"1\" class=\"dataframe\">\n",
       "  <thead>\n",
       "    <tr style=\"text-align: right;\">\n",
       "      <th></th>\n",
       "      <th>T (°C)</th>\n",
       "      <th>p (bar)</th>\n",
       "      <th>h (kJ/kg)</th>\n",
       "      <th>s (kJ/kgK)</th>\n",
       "      <th>x</th>\n",
       "    </tr>\n",
       "    <tr>\n",
       "      <th>point</th>\n",
       "      <th></th>\n",
       "      <th></th>\n",
       "      <th></th>\n",
       "      <th></th>\n",
       "      <th></th>\n",
       "    </tr>\n",
       "  </thead>\n",
       "  <tbody>\n",
       "    <tr>\n",
       "      <th>1</th>\n",
       "      <td>6</td>\n",
       "      <td>3.0418</td>\n",
       "      <td>403.67</td>\n",
       "      <td>1.746769</td>\n",
       "      <td>-</td>\n",
       "    </tr>\n",
       "    <tr>\n",
       "      <th>2s</th>\n",
       "      <td>53.283027</td>\n",
       "      <td>10.999972620943746</td>\n",
       "      <td>432.494979</td>\n",
       "      <td>1.746769</td>\n",
       "      <td>-</td>\n",
       "    </tr>\n",
       "    <tr>\n",
       "      <th>2</th>\n",
       "      <td>63.577818</td>\n",
       "      <td>10.999972620943746</td>\n",
       "      <td>443.362779</td>\n",
       "      <td>1.778318</td>\n",
       "      <td>-</td>\n",
       "    </tr>\n",
       "    <tr>\n",
       "      <th>3</th>\n",
       "      <td>42.90988353434663</td>\n",
       "      <td>10.999972620943746</td>\n",
       "      <td>260.79228460272606</td>\n",
       "      <td>1.2039674409648637</td>\n",
       "      <td>0</td>\n",
       "    </tr>\n",
       "    <tr>\n",
       "      <th>4</th>\n",
       "      <td>6</td>\n",
       "      <td>3.0418</td>\n",
       "      <td>260.79228460272606</td>\n",
       "      <td>1.221622</td>\n",
       "      <td>0.300475</td>\n",
       "    </tr>\n",
       "  </tbody>\n",
       "</table>\n",
       "</div>"
      ],
      "text/plain": [
       "                  T (°C)             p (bar)           h (kJ/kg)  \\\n",
       "point                                                              \n",
       "1                      6              3.0418              403.67   \n",
       "2s             53.283027  10.999972620943746          432.494979   \n",
       "2              63.577818  10.999972620943746          443.362779   \n",
       "3      42.90988353434663  10.999972620943746  260.79228460272606   \n",
       "4                      6              3.0418  260.79228460272606   \n",
       "\n",
       "               s (kJ/kgK)         x  \n",
       "point                                \n",
       "1                1.746769         -  \n",
       "2s               1.746769         -  \n",
       "2                1.778318         -  \n",
       "3      1.2039674409648637         0  \n",
       "4                1.221622  0.300475  "
      ]
     },
     "execution_count": 26,
     "metadata": {},
     "output_type": "execute_result"
    }
   ],
   "source": [
    "reftable"
   ]
  }
 ],
 "metadata": {
  "kernelspec": {
   "display_name": "Python 3.8.15 ('Python38')",
   "language": "python",
   "name": "python3"
  },
  "language_info": {
   "codemirror_mode": {
    "name": "ipython",
    "version": 3
   },
   "file_extension": ".py",
   "mimetype": "text/x-python",
   "name": "python",
   "nbconvert_exporter": "python",
   "pygments_lexer": "ipython3",
   "version": "3.8.15"
  },
  "orig_nbformat": 4,
  "vscode": {
   "interpreter": {
    "hash": "08454aa7af5b34d8de08d0bd0b536da1777dc7901f284f3150cb2d67d1ab4d30"
   }
  }
 },
 "nbformat": 4,
 "nbformat_minor": 2
}
