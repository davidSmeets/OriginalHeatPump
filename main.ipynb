{
 "cells": [
  {
   "cell_type": "code",
   "execution_count": 1,
   "metadata": {},
   "outputs": [],
   "source": [
    "import inputs\n",
    "import refdata as ref\n",
    "import isentropic_efficiency as isen\n",
    "\n",
    "import numpy\n",
    "from scipy import interpolate\n",
    "import pandas as pd\n",
    "import matplotlib.pyplot as plt"
   ]
  },
  {
   "cell_type": "code",
   "execution_count": 2,
   "metadata": {},
   "outputs": [
    {
     "data": {
      "text/plain": [
       "'r290'"
      ]
     },
     "execution_count": 2,
     "metadata": {},
     "output_type": "execute_result"
    }
   ],
   "source": [
    "inputs.refrigerant"
   ]
  },
  {
   "cell_type": "code",
   "execution_count": 3,
   "metadata": {},
   "outputs": [],
   "source": [
    "# Get evaporator temperature\n",
    "\n",
    "if inputs.source_type == 'Air':\n",
    "    evaporator_temp = inputs.source_temp - 6\n",
    "elif inputs.source_type == 'Water':\n",
    "    evaporator_temp = inputs.source_temp - 6\n",
    "elif inputs.source_type == 'Advanced':\n",
    "    evaporator_temp = inputs.source_temp - inputs.delta_T_source_evaporator"
   ]
  },
  {
   "cell_type": "code",
   "execution_count": 4,
   "metadata": {},
   "outputs": [],
   "source": [
    "# Get condensor temperature\n",
    "\n",
    "if inputs.sink_type == 'Air':\n",
    "    condensor_temp = inputs.sink_temp + 12\n",
    "\n",
    "elif inputs.sink_type == 'Water':\n",
    "    delta_T_sink_condensor = 5\n",
    "    supply_temp = inputs.sink_temp\n",
    "    return_temp = inputs.sink_temp_return\n",
    "\n",
    "    condensor_temp = (-(return_temp-supply_temp*numpy.exp((supply_temp\n",
    "                      - return_temp)/delta_T_sink_condensor)) / (numpy.exp(\n",
    "                      (supply_temp-return_temp) / delta_T_sink_condensor)-1)) \\\n",
    "                       + delta_T_sink_condensor\n",
    "\n",
    "elif inputs.sinkType == 'Advanced':\n",
    "    condensor_temp = inputs.sink_temp + inputs.delta_T_sink_condensor"
   ]
  },
  {
   "cell_type": "code",
   "execution_count": 5,
   "metadata": {},
   "outputs": [],
   "source": [
    "# Compressor intake (suction line)\n",
    "p1 = ref.pressure_saturated_liq_func(evaporator_temp)[()]\n",
    "t1 = evaporator_temp + inputs.delta_T_superheat_suction\n",
    "h1 = ref.enthalpy_superheated_func(inputs.delta_T_superheat_suction, p1)[0]"
   ]
  },
  {
   "cell_type": "code",
   "execution_count": 6,
   "metadata": {},
   "outputs": [
    {
     "data": {
      "text/plain": [
       "4.8982"
      ]
     },
     "execution_count": 6,
     "metadata": {},
     "output_type": "execute_result"
    }
   ],
   "source": [
    "p1"
   ]
  },
  {
   "cell_type": "code",
   "execution_count": 7,
   "metadata": {},
   "outputs": [],
   "source": [
    "s1 = interpolate.bisplev(inputs.delta_T_superheat_suction, p1, ref.entropy_superheated_func)\n",
    "\n",
    "if inputs.delta_T_superheat_suction == 0:\n",
    "    x1 = 1                                  # vapor quality\n",
    "else:\n",
    "    x1 = '-'"
   ]
  },
  {
   "cell_type": "code",
   "execution_count": 8,
   "metadata": {},
   "outputs": [],
   "source": [
    "# Compressor output (isentropic)\n",
    "p2s = ref.pressure_saturated_gas_func(condensor_temp)\n",
    "s2s = s1\n",
    "dt2s = interpolate.bisplev(s2s, p2s, ref.dt_s_superheated_func)\n",
    "t2s = condensor_temp + dt2s\n",
    "x2s = '-'\n",
    "h2s = ref.enthalpy_superheated_func(dt2s, p2s)[0]"
   ]
  },
  {
   "cell_type": "code",
   "execution_count": 9,
   "metadata": {},
   "outputs": [],
   "source": [
    "pressureratio = p2s/p1\n",
    "ideal = inputs.ideal_pressure_ratio"
   ]
  },
  {
   "cell_type": "code",
   "execution_count": 10,
   "metadata": {},
   "outputs": [],
   "source": [
    "isentropic_efficiency = isen.getefficiency(pressureratio)"
   ]
  },
  {
   "cell_type": "code",
   "execution_count": 11,
   "metadata": {},
   "outputs": [],
   "source": [
    "# Compressor output ('real')\n",
    "\n",
    "p2 = p2s\n",
    "h2 = h1 + (h2s-h1) / isentropic_efficiency\n",
    "dt2 = interpolate.bisplev(h2, p2, ref.dt_h_superheated_func)\n",
    "t2 = condensor_temp + dt2\n",
    "s2 = interpolate.bisplev(dt2, p2, ref.entropy_superheated_func)[()]\n",
    "x2 = '-'"
   ]
  },
  {
   "cell_type": "code",
   "execution_count": 12,
   "metadata": {},
   "outputs": [],
   "source": [
    "# Expansion valve intake\n",
    "\n",
    "p3 = p2\n",
    "\n",
    "if ref.temp_gas_saturated.equals(ref.temp_liquid_saturated):\n",
    "    zeotropic = False\n",
    "    t3 = condensor_temp\n",
    "else: \n",
    "    zeotropic = True\n",
    "    t3 = ref.temp_liquid_saturated_func(p2)\n",
    "\n",
    "h3 = ref.enthalpy_liquid_saturated_func(p3)\n",
    "s3 = ref.entropy_liquid_saturated_func(p3)\n",
    "x3 = 0"
   ]
  },
  {
   "cell_type": "code",
   "execution_count": 13,
   "metadata": {},
   "outputs": [],
   "source": [
    "# Expansion valve outlet\n",
    "\n",
    "p4 = p1\n",
    "t4 = evaporator_temp\n",
    "h4 = h3\n",
    "\n",
    "hf = ref.enthalpy_liquid_saturated_func(p4)\n",
    "hg = ref.enthalpy_gas_saturated_func(p1)\n",
    "x4 = (h4-hf) / (hg-hf)\n",
    "\n",
    "sf = ref.entropy_liquid_saturated_func(p4)\n",
    "sg = ref.entropy_gas_saturated_func(p1)\n",
    "s4 = sf + x4 * (sg-sf)"
   ]
  },
  {
   "cell_type": "code",
   "execution_count": 14,
   "metadata": {},
   "outputs": [],
   "source": [
    "# Cop calculation\n",
    "\n",
    "delta_h_compressor = (h2-h1) / (inputs.motor_efficiency/100)\n",
    "delta_h_condensor = h2-h3\n",
    "cop = delta_h_condensor/delta_h_compressor\n",
    "cop_carnot = (condensor_temp+273.15) / (condensor_temp-evaporator_temp)\n",
    "carnot_efficiency = cop / cop_carnot"
   ]
  },
  {
   "cell_type": "code",
   "execution_count": 15,
   "metadata": {},
   "outputs": [],
   "source": [
    "# Creating table\n",
    "reftable = pd.DataFrame(\n",
    "    [\n",
    "        ['1',t1, p1, h1, s1, x1], \n",
    "        ['2s', t2s, p2s, h2s, s2s, x2s], \n",
    "        ['2', t2, p2, h2, s2, x2], \n",
    "        ['3', t3, p3, h3, s3, x3], \n",
    "        ['4', t4, p4, h4, s4, x4]\n",
    "    ]\n",
    ")\n",
    "\n",
    "reftable.columns = ['point', 'T (°C)', 'p (bar)', 'h (kJ/kg)', \n",
    "                's (kJ/kgK)', 'x']"
   ]
  },
  {
   "cell_type": "code",
   "execution_count": 16,
   "metadata": {},
   "outputs": [
    {
     "data": {
      "image/png": "[encoded data removed]",
      "text/plain": [
       "<Figure size 640x480 with 1 Axes>"
      ]
     },
     "metadata": {},
     "output_type": "display_data"
    }
   ],
   "source": [
    "#plot log p-h saturation curve\n",
    "\n",
    "fig, ax = plt.subplots()\n",
    "\n",
    "toplot_h_liq = ref.enthalpy_liquid_saturated_func(ref.pressure_saturated)\n",
    "toplot_h_gas = ref.enthalpy_gas_saturated_func(ref.pressure_saturated)\n",
    "toplot_p = ref.pressure_saturated\n",
    "\n",
    "ax.plot(toplot_h_liq, toplot_p, color='k')\n",
    "ax.plot(toplot_h_gas, toplot_p, color='k')\n",
    "\n",
    "plt.yscale('log')\n",
    "plt.xlabel(\"Enthalpy (kJ/kg)\")\n",
    "plt.ylabel(\"Pressure (bar)\")\n",
    "plt.title(\"Log p-h diagram for refrigerant \" + inputs.refrigerant)\n",
    "plt.grid()"
   ]
  },
  {
   "cell_type": "code",
   "execution_count": 17,
   "metadata": {},
   "outputs": [
    {
     "data": {
      "image/png": "[encoded data removed]",
      "text/plain": [
       "<Figure size 640x480 with 1 Axes>"
      ]
     },
     "execution_count": 17,
     "metadata": {},
     "output_type": "execute_result"
    }
   ],
   "source": [
    "# Plot cycle\n",
    "\n",
    "ax.plot(reftable['h (kJ/kg)'] , reftable['p (bar)'], '*b')\n",
    "ax.plot([h1,h2,h3,h4,h1] , [p1,p2,p3,p4,p1], 'b')\n",
    "ax.plot(h2s,p2s, '*r')\n",
    "fig"
   ]
  },
  {
   "cell_type": "code",
   "execution_count": 18,
   "metadata": {},
   "outputs": [],
   "source": [
    "# Flow rates etc\n",
    "\n",
    "mass_flowrate_refrigerant = inputs.capacity/delta_h_condensor   \t#kg/s\n",
    "RHO_C = 4000\n",
    "volume_rate_water = inputs.capacity / ((inputs.sink_temp - inputs.sink_temp_return)*RHO_C)\n",
    "electric_power = inputs.capacity/cop"
   ]
  },
  {
   "cell_type": "code",
   "execution_count": 19,
   "metadata": {},
   "outputs": [],
   "source": [
    "outputtable = pd.DataFrame([['COP',round(cop,2)],\n",
    "                            ['SCOP','-'],\n",
    "                            ['Carnot COP', round(cop_carnot,2)], \n",
    "                            ['Carnot efficiency (%)', round(carnot_efficiency,1)*100], \n",
    "                            ['Electric power (kW)', round(electric_power,1)], \n",
    "                            ['Refrigerant mass flow rate (kg/s)', mass_flowrate_refrigerant],\n",
    "                            [ 'Water volume flow rate (kg/s)', volume_rate_water]] )"
   ]
  },
  {
   "cell_type": "code",
   "execution_count": 20,
   "metadata": {},
   "outputs": [
    {
     "data": {
      "text/html": [
       "<div>\n",
       "<style scoped>\n",
       "    .dataframe tbody tr th:only-of-type {\n",
       "        vertical-align: middle;\n",
       "    }\n",
       "\n",
       "    .dataframe tbody tr th {\n",
       "        vertical-align: top;\n",
       "    }\n",
       "\n",
       "    .dataframe thead th {\n",
       "        text-align: right;\n",
       "    }\n",
       "</style>\n",
       "<table border=\"1\" class=\"dataframe\">\n",
       "  <thead>\n",
       "    <tr style=\"text-align: right;\">\n",
       "      <th></th>\n",
       "      <th>0</th>\n",
       "      <th>1</th>\n",
       "    </tr>\n",
       "  </thead>\n",
       "  <tbody>\n",
       "    <tr>\n",
       "      <th>0</th>\n",
       "      <td>COP</td>\n",
       "      <td>3.95</td>\n",
       "    </tr>\n",
       "    <tr>\n",
       "      <th>1</th>\n",
       "      <td>SCOP</td>\n",
       "      <td>-</td>\n",
       "    </tr>\n",
       "    <tr>\n",
       "      <th>2</th>\n",
       "      <td>Carnot COP</td>\n",
       "      <td>7.76</td>\n",
       "    </tr>\n",
       "    <tr>\n",
       "      <th>3</th>\n",
       "      <td>Carnot efficiency (%)</td>\n",
       "      <td>50.0</td>\n",
       "    </tr>\n",
       "    <tr>\n",
       "      <th>4</th>\n",
       "      <td>Electric power (kW)</td>\n",
       "      <td>2.5</td>\n",
       "    </tr>\n",
       "    <tr>\n",
       "      <th>5</th>\n",
       "      <td>Refrigerant mass flow rate (kg/s)</td>\n",
       "      <td>0.028736</td>\n",
       "    </tr>\n",
       "    <tr>\n",
       "      <th>6</th>\n",
       "      <td>Water volume flow rate (kg/s)</td>\n",
       "      <td>0.00025</td>\n",
       "    </tr>\n",
       "  </tbody>\n",
       "</table>\n",
       "</div>"
      ],
      "text/plain": [
       "                                   0         1\n",
       "0                                COP      3.95\n",
       "1                               SCOP         -\n",
       "2                         Carnot COP      7.76\n",
       "3              Carnot efficiency (%)      50.0\n",
       "4                Electric power (kW)       2.5\n",
       "5  Refrigerant mass flow rate (kg/s)  0.028736\n",
       "6      Water volume flow rate (kg/s)   0.00025"
      ]
     },
     "execution_count": 20,
     "metadata": {},
     "output_type": "execute_result"
    }
   ],
   "source": [
    "outputtable"
   ]
  },
  {
   "cell_type": "code",
   "execution_count": 21,
   "metadata": {},
   "outputs": [
    {
     "data": {
      "text/html": [
       "<div>\n",
       "<style scoped>\n",
       "    .dataframe tbody tr th:only-of-type {\n",
       "        vertical-align: middle;\n",
       "    }\n",
       "\n",
       "    .dataframe tbody tr th {\n",
       "        vertical-align: top;\n",
       "    }\n",
       "\n",
       "    .dataframe thead th {\n",
       "        text-align: right;\n",
       "    }\n",
       "</style>\n",
       "<table border=\"1\" class=\"dataframe\">\n",
       "  <thead>\n",
       "    <tr style=\"text-align: right;\">\n",
       "      <th></th>\n",
       "      <th>0</th>\n",
       "      <th>1</th>\n",
       "    </tr>\n",
       "  </thead>\n",
       "  <tbody>\n",
       "    <tr>\n",
       "      <th>0</th>\n",
       "      <td>Sink</td>\n",
       "      <td>Water</td>\n",
       "    </tr>\n",
       "    <tr>\n",
       "      <th>1</th>\n",
       "      <td>Source</td>\n",
       "      <td>Air</td>\n",
       "    </tr>\n",
       "    <tr>\n",
       "      <th>2</th>\n",
       "      <td>Sink temperature (°C)</td>\n",
       "      <td>35</td>\n",
       "    </tr>\n",
       "    <tr>\n",
       "      <th>3</th>\n",
       "      <td>Sink temperature (return) (°C)</td>\n",
       "      <td>25</td>\n",
       "    </tr>\n",
       "    <tr>\n",
       "      <th>4</th>\n",
       "      <td>Source temperature (°C)</td>\n",
       "      <td>7</td>\n",
       "    </tr>\n",
       "    <tr>\n",
       "      <th>5</th>\n",
       "      <td>Refrigerant</td>\n",
       "      <td>r290</td>\n",
       "    </tr>\n",
       "    <tr>\n",
       "      <th>6</th>\n",
       "      <td>Capacity (kW)</td>\n",
       "      <td>10</td>\n",
       "    </tr>\n",
       "  </tbody>\n",
       "</table>\n",
       "</div>"
      ],
      "text/plain": [
       "                                0      1\n",
       "0                            Sink  Water\n",
       "1                          Source    Air\n",
       "2           Sink temperature (°C)     35\n",
       "3  Sink temperature (return) (°C)     25\n",
       "4         Source temperature (°C)      7\n",
       "5                     Refrigerant   r290\n",
       "6                   Capacity (kW)     10"
      ]
     },
     "execution_count": 21,
     "metadata": {},
     "output_type": "execute_result"
    }
   ],
   "source": [
    "inputs.inputtable"
   ]
  },
  {
   "cell_type": "code",
   "execution_count": 22,
   "metadata": {},
   "outputs": [
    {
     "data": {
      "text/html": [
       "<div>\n",
       "<style scoped>\n",
       "    .dataframe tbody tr th:only-of-type {\n",
       "        vertical-align: middle;\n",
       "    }\n",
       "\n",
       "    .dataframe tbody tr th {\n",
       "        vertical-align: top;\n",
       "    }\n",
       "\n",
       "    .dataframe thead th {\n",
       "        text-align: right;\n",
       "    }\n",
       "</style>\n",
       "<table border=\"1\" class=\"dataframe\">\n",
       "  <thead>\n",
       "    <tr style=\"text-align: right;\">\n",
       "      <th></th>\n",
       "      <th>point</th>\n",
       "      <th>T (°C)</th>\n",
       "      <th>p (bar)</th>\n",
       "      <th>h (kJ/kg)</th>\n",
       "      <th>s (kJ/kgK)</th>\n",
       "      <th>x</th>\n",
       "    </tr>\n",
       "  </thead>\n",
       "  <tbody>\n",
       "    <tr>\n",
       "      <th>0</th>\n",
       "      <td>1</td>\n",
       "      <td>6.000000</td>\n",
       "      <td>4.8982</td>\n",
       "      <td>584.899522</td>\n",
       "      <td>2.414118</td>\n",
       "      <td>-</td>\n",
       "    </tr>\n",
       "    <tr>\n",
       "      <th>1</th>\n",
       "      <td>2s</td>\n",
       "      <td>52.262572</td>\n",
       "      <td>14.210195185788397</td>\n",
       "      <td>639.520828</td>\n",
       "      <td>2.414118</td>\n",
       "      <td>-</td>\n",
       "    </tr>\n",
       "    <tr>\n",
       "      <th>2</th>\n",
       "      <td>2</td>\n",
       "      <td>61.675313</td>\n",
       "      <td>14.210195185788397</td>\n",
       "      <td>659.733255</td>\n",
       "      <td>2.467358</td>\n",
       "      <td>-</td>\n",
       "    </tr>\n",
       "    <tr>\n",
       "      <th>3</th>\n",
       "      <td>3</td>\n",
       "      <td>41.565176</td>\n",
       "      <td>14.210195185788397</td>\n",
       "      <td>311.7328365797102</td>\n",
       "      <td>1.3733996231329693</td>\n",
       "      <td>0</td>\n",
       "    </tr>\n",
       "    <tr>\n",
       "      <th>4</th>\n",
       "      <td>4</td>\n",
       "      <td>1.000000</td>\n",
       "      <td>4.8982</td>\n",
       "      <td>311.7328365797102</td>\n",
       "      <td>1.407316</td>\n",
       "      <td>0.292449</td>\n",
       "    </tr>\n",
       "  </tbody>\n",
       "</table>\n",
       "</div>"
      ],
      "text/plain": [
       "  point     T (°C)             p (bar)          h (kJ/kg)          s (kJ/kgK)  \\\n",
       "0     1   6.000000              4.8982         584.899522            2.414118   \n",
       "1    2s  52.262572  14.210195185788397         639.520828            2.414118   \n",
       "2     2  61.675313  14.210195185788397         659.733255            2.467358   \n",
       "3     3  41.565176  14.210195185788397  311.7328365797102  1.3733996231329693   \n",
       "4     4   1.000000              4.8982  311.7328365797102            1.407316   \n",
       "\n",
       "          x  \n",
       "0         -  \n",
       "1         -  \n",
       "2         -  \n",
       "3         0  \n",
       "4  0.292449  "
      ]
     },
     "execution_count": 22,
     "metadata": {},
     "output_type": "execute_result"
    }
   ],
   "source": [
    "reftable"
   ]
  }
 ],
 "metadata": {
  "kernelspec": {
   "display_name": "Python 3.8.15 ('Python38')",
   "language": "python",
   "name": "python3"
  },
  "language_info": {
   "codemirror_mode": {
    "name": "ipython",
    "version": 3
   },
   "file_extension": ".py",
   "mimetype": "text/x-python",
   "name": "python",
   "nbconvert_exporter": "python",
   "pygments_lexer": "ipython3",
   "version": "3.8.15"
  },
  "orig_nbformat": 4,
  "vscode": {
   "interpreter": {
    "hash": "08454aa7af5b34d8de08d0bd0b536da1777dc7901f284f3150cb2d67d1ab4d30"
   }
  }
 },
 "nbformat": 4,
 "nbformat_minor": 2
}
