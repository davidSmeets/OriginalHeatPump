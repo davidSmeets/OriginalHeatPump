{
 "cells": [
  {
   "cell_type": "code",
   "execution_count": 103,
   "metadata": {},
   "outputs": [],
   "source": [
    "import inputs\n",
    "import refdata as ref\n",
    "import numpy\n",
    "from scipy import interpolate\n",
    "import isentropic_efficiency as isen\n",
    "import pandas as pd\n",
    "import matplotlib.pyplot as plt\n",
    "import math"
   ]
  },
  {
   "cell_type": "code",
   "execution_count": 104,
   "metadata": {},
   "outputs": [
    {
     "data": {
      "text/plain": [
       "'r134a'"
      ]
     },
     "execution_count": 104,
     "metadata": {},
     "output_type": "execute_result"
    }
   ],
   "source": [
    "inputs.refrigerant"
   ]
  },
  {
   "cell_type": "code",
   "execution_count": 105,
   "metadata": {},
   "outputs": [],
   "source": [
    "# Get evaporator temperature\n",
    "\n",
    "if inputs.source_type == 'Air':\n",
    "    evaporator_temp = inputs.source_temp - 6\n",
    "elif inputs.source_type == 'Water':\n",
    "    evaporator_temp = inputs.source_temp - 6\n",
    "elif inputs.source_type == 'Advanced':\n",
    "    evaporator_temp = inputs.source_temp - inputs.delta_T_source_evaporator"
   ]
  },
  {
   "cell_type": "code",
   "execution_count": 106,
   "metadata": {},
   "outputs": [],
   "source": [
    "# Get condensor temperature\n",
    "\n",
    "if inputs.sink_type == 'Air':\n",
    "    condensor_temp = inputs.sink_temp + 12\n",
    "\n",
    "elif inputs.sink_type == 'Water':\n",
    "    delta_T_sink_condensor = 5\n",
    "    supply_temp = inputs.sink_temp\n",
    "    return_temp = inputs.sink_temp_return\n",
    "\n",
    "    condensor_temp = (-(return_temp-supply_temp*numpy.exp((supply_temp\n",
    "                      - return_temp)/delta_T_sink_condensor)) / (numpy.exp(\n",
    "                      (supply_temp-return_temp) / delta_T_sink_condensor)-1)) \\\n",
    "                       + delta_T_sink_condensor\n",
    "\n",
    "elif inputs.sinkType == 'Advanced':\n",
    "    condensor_temp = inputs.sink_temp + inputs.delta_T_sink_condensor"
   ]
  },
  {
   "cell_type": "code",
   "execution_count": 107,
   "metadata": {},
   "outputs": [],
   "source": [
    "# Compressor intake (suction line)\n",
    "p1 = ref.pressure_saturated_liq_func(evaporator_temp)[()]\n",
    "t1 = evaporator_temp + inputs.delta_T_superheat_suction\n",
    "h1 = ref.enthalpy_superheated_func(inputs.delta_T_superheat_suction, p1)[0]"
   ]
  },
  {
   "cell_type": "code",
   "execution_count": 108,
   "metadata": {},
   "outputs": [
    {
     "data": {
      "text/plain": [
       "3.0418"
      ]
     },
     "execution_count": 108,
     "metadata": {},
     "output_type": "execute_result"
    }
   ],
   "source": [
    "p1"
   ]
  },
  {
   "cell_type": "code",
   "execution_count": 109,
   "metadata": {},
   "outputs": [],
   "source": [
    "s1 = interpolate.bisplev(inputs.delta_T_superheat_suction, p1, ref.entropy_superheated_func)\n",
    "\n",
    "if inputs.delta_T_superheat_suction == 0:\n",
    "    x1 = 1\n",
    "else:\n",
    "    x1 = '-'"
   ]
  },
  {
   "cell_type": "code",
   "execution_count": 110,
   "metadata": {},
   "outputs": [],
   "source": [
    "# Compressor output (isentropic)\n",
    "p2s = ref.pressure_saturated_gas_func(condensor_temp)\n",
    "s2s = s1\n",
    "dt2s = interpolate.bisplev(s2s, p2s, ref.dt_s_superheated_func)\n",
    "t2s = condensor_temp + dt2s\n",
    "x2s = '-'\n",
    "h2s = ref.enthalpy_superheated_func(dt2s, p2s)[0]"
   ]
  },
  {
   "cell_type": "code",
   "execution_count": 111,
   "metadata": {},
   "outputs": [],
   "source": [
    "pressureratio = p2s/p1\n",
    "ideal = inputs.ideal_pressure_ratio"
   ]
  },
  {
   "cell_type": "code",
   "execution_count": 112,
   "metadata": {},
   "outputs": [],
   "source": [
    "isentropic_efficiency = isen.getefficiency(pressureratio)"
   ]
  },
  {
   "cell_type": "code",
   "execution_count": 113,
   "metadata": {},
   "outputs": [],
   "source": [
    "# Compressor output ('real')\n",
    "\n",
    "p2 = p2s\n",
    "h2 = h1 + (h2s-h1) / isentropic_efficiency\n",
    "dt2 = interpolate.bisplev(h2, p2, ref.dt_h_superheated_func)\n",
    "t2 = condensor_temp + dt2\n",
    "s2 = interpolate.bisplev(dt2, p2, ref.entropy_superheated_func)[()]\n",
    "x2 = '-'"
   ]
  },
  {
   "cell_type": "code",
   "execution_count": 114,
   "metadata": {},
   "outputs": [],
   "source": [
    "# Expansion valve intake\n",
    "\n",
    "p3 = p2\n",
    "\n",
    "if ref.temp_gas_saturated.equals(ref.temp_liquid_saturated):\n",
    "    zeotropic = False\n",
    "    t3 = condensor_temp\n",
    "else: \n",
    "    zeotropic = True\n",
    "    t3 = ref.temp_liquid_saturated_func(p2)\n",
    "\n",
    "h3 = ref.enthalpy_liquid_saturated_func(p3)\n",
    "s3 = ref.entropy_liquid_saturated_func(p3)\n",
    "x3 = 0"
   ]
  },
  {
   "cell_type": "code",
   "execution_count": 115,
   "metadata": {},
   "outputs": [],
   "source": [
    "# Expansion valve outlet\n",
    "\n",
    "p4 = p1\n",
    "t4 = evaporator_temp\n",
    "h4 = h3\n",
    "\n",
    "hf = ref.enthalpy_liquid_saturated_func(p4)\n",
    "hg = ref.enthalpy_gas_saturated_func(p1)\n",
    "x4 = (h4-hf) / (hg-hf)\n",
    "\n",
    "sf = ref.entropy_liquid_saturated_func(p4)\n",
    "sg = ref.entropy_gas_saturated_func(p1)\n",
    "s4 = sf + x4 * (sg-sf)"
   ]
  },
  {
   "cell_type": "code",
   "execution_count": 116,
   "metadata": {},
   "outputs": [],
   "source": [
    "# Cop calculation\n",
    "\n",
    "delta_h_compressor = (h2-h1) / (inputs.motor_efficiency/100)\n",
    "delta_h_condensor = h2-h3\n",
    "cop = delta_h_condensor/delta_h_compressor\n",
    "cop_carnot = (condensor_temp+273.15) / (condensor_temp-evaporator_temp)\n",
    "carnot_efficiency = cop / cop_carnot"
   ]
  },
  {
   "cell_type": "code",
   "execution_count": 117,
   "metadata": {},
   "outputs": [],
   "source": [
    "# Creating table\n",
    "reftable = pd.DataFrame([['1',t1, p1, h1, s1, x1], \n",
    "                    ['2s', t2s, p2s, h2s, s2s, x2s], \n",
    "                    ['2', t2, p2, h2, s2, x2], \n",
    "                    ['3', t3, p3, h3, s3, x3], \n",
    "                    ['4', t4, p4, h4, s4, x4]])\n",
    "reftable.columns = ['point', 'T (deg. C)', 'p (bar)', 'h (kJ/kg)', \n",
    "                's (kJ/kgK)', 'x']"
   ]
  },
  {
   "cell_type": "code",
   "execution_count": 118,
   "metadata": {},
   "outputs": [
    {
     "data": {
      "image/png": "[encoded data removed]",
      "text/plain": [
       "<Figure size 640x480 with 1 Axes>"
      ]
     },
     "metadata": {},
     "output_type": "display_data"
    }
   ],
   "source": [
    "#plot log p-h saturation curve\n",
    "\n",
    "fig, ax = plt.subplots()\n",
    "\n",
    "toplot_h_liq = ref.enthalpy_liquid_saturated_func(ref.pressure_saturated)\n",
    "toplot_h_gas = ref.enthalpy_gas_saturated_func(ref.pressure_saturated)\n",
    "toplot_p = ref.pressure_saturated\n",
    "\n",
    "ax.plot(toplot_h_liq, toplot_p, color='k')\n",
    "ax.plot(toplot_h_gas, toplot_p, color='k')\n",
    "\n",
    "plt.yscale('log')\n",
    "plt.xlabel(\"Enthalpy (kJ/kg)\")\n",
    "plt.ylabel(\"Pressure (bar)\")\n",
    "plt.title(\"Log p-h diagram for refrigerant \" + inputs.refrigerant)\n",
    "plt.grid()"
   ]
  },
  {
   "cell_type": "code",
   "execution_count": 119,
   "metadata": {},
   "outputs": [
    {
     "data": {
      "image/png": "[encoded data removed]",
      "text/plain": [
       "<Figure size 640x480 with 1 Axes>"
      ]
     },
     "execution_count": 119,
     "metadata": {},
     "output_type": "execute_result"
    }
   ],
   "source": [
    "# Plot cycle\n",
    "\n",
    "ax.plot(reftable['h (kJ/kg)'] , reftable['p (bar)'], '*b')\n",
    "ax.plot([h1,h2,h3,h4,h1] , [p1,p2,p3,p4,p1], 'b')\n",
    "ax.plot(h2s,p2s, '*r')\n",
    "fig"
   ]
  },
  {
   "cell_type": "code",
   "execution_count": 120,
   "metadata": {},
   "outputs": [],
   "source": [
    "# Flow rates etc\n",
    "\n",
    "mass_flowrate_refrigerant = inputs.capacity/delta_h_condensor   \t#kg/s\n",
    "RHO_C = 4000\n",
    "volume_rate_water = inputs.capacity / ((inputs.sink_temp - inputs.sink_temp_return)*RHO_C)\n",
    "electric_power = inputs.capacity/cop"
   ]
  },
  {
   "cell_type": "code",
   "execution_count": 121,
   "metadata": {},
   "outputs": [],
   "source": [
    "outputtable = pd.DataFrame([['COP',round(cop,2)],\n",
    "                            ['SCOP','-'],\n",
    "                            ['Carnot COP', round(cop_carnot,2)], \n",
    "                            ['Carnot efficiency (%)', round(carnot_efficiency,1)*100], \n",
    "                            ['Electric power (kW)', round(electric_power,1)], \n",
    "                            ['Refrigerant mass flow rate (kg/s)', mass_flowrate_refrigerant],\n",
    "                            [ 'Water volume flow rate (kg/s)', volume_rate_water]] )"
   ]
  },
  {
   "cell_type": "code",
   "execution_count": 122,
   "metadata": {},
   "outputs": [
    {
     "data": {
      "text/html": [
       "<div>\n",
       "<style scoped>\n",
       "    .dataframe tbody tr th:only-of-type {\n",
       "        vertical-align: middle;\n",
       "    }\n",
       "\n",
       "    .dataframe tbody tr th {\n",
       "        vertical-align: top;\n",
       "    }\n",
       "\n",
       "    .dataframe thead th {\n",
       "        text-align: right;\n",
       "    }\n",
       "</style>\n",
       "<table border=\"1\" class=\"dataframe\">\n",
       "  <thead>\n",
       "    <tr style=\"text-align: right;\">\n",
       "      <th></th>\n",
       "      <th>0</th>\n",
       "      <th>1</th>\n",
       "    </tr>\n",
       "  </thead>\n",
       "  <tbody>\n",
       "    <tr>\n",
       "      <th>0</th>\n",
       "      <td>COP</td>\n",
       "      <td>4.05</td>\n",
       "    </tr>\n",
       "    <tr>\n",
       "      <th>1</th>\n",
       "      <td>SCOP</td>\n",
       "      <td>-</td>\n",
       "    </tr>\n",
       "    <tr>\n",
       "      <th>2</th>\n",
       "      <td>Carnot COP</td>\n",
       "      <td>7.76</td>\n",
       "    </tr>\n",
       "    <tr>\n",
       "      <th>3</th>\n",
       "      <td>Carnot efficiency (%)</td>\n",
       "      <td>50.0</td>\n",
       "    </tr>\n",
       "    <tr>\n",
       "      <th>4</th>\n",
       "      <td>Electric power (kW)</td>\n",
       "      <td>2.5</td>\n",
       "    </tr>\n",
       "    <tr>\n",
       "      <th>5</th>\n",
       "      <td>Refrigerant mass flow rate (kg/s)</td>\n",
       "      <td>0.054522</td>\n",
       "    </tr>\n",
       "    <tr>\n",
       "      <th>6</th>\n",
       "      <td>Water volume flow rate (kg/s)</td>\n",
       "      <td>0.00025</td>\n",
       "    </tr>\n",
       "  </tbody>\n",
       "</table>\n",
       "</div>"
      ],
      "text/plain": [
       "                                   0         1\n",
       "0                                COP      4.05\n",
       "1                               SCOP         -\n",
       "2                         Carnot COP      7.76\n",
       "3              Carnot efficiency (%)      50.0\n",
       "4                Electric power (kW)       2.5\n",
       "5  Refrigerant mass flow rate (kg/s)  0.054522\n",
       "6      Water volume flow rate (kg/s)   0.00025"
      ]
     },
     "execution_count": 122,
     "metadata": {},
     "output_type": "execute_result"
    }
   ],
   "source": [
    "outputtable"
   ]
  },
  {
   "cell_type": "code",
   "execution_count": 123,
   "metadata": {},
   "outputs": [
    {
     "data": {
      "text/html": [
       "<div>\n",
       "<style scoped>\n",
       "    .dataframe tbody tr th:only-of-type {\n",
       "        vertical-align: middle;\n",
       "    }\n",
       "\n",
       "    .dataframe tbody tr th {\n",
       "        vertical-align: top;\n",
       "    }\n",
       "\n",
       "    .dataframe thead th {\n",
       "        text-align: right;\n",
       "    }\n",
       "</style>\n",
       "<table border=\"1\" class=\"dataframe\">\n",
       "  <thead>\n",
       "    <tr style=\"text-align: right;\">\n",
       "      <th></th>\n",
       "      <th>0</th>\n",
       "      <th>1</th>\n",
       "    </tr>\n",
       "  </thead>\n",
       "  <tbody>\n",
       "    <tr>\n",
       "      <th>0</th>\n",
       "      <td>Sink</td>\n",
       "      <td>Water</td>\n",
       "    </tr>\n",
       "    <tr>\n",
       "      <th>1</th>\n",
       "      <td>Source</td>\n",
       "      <td>Air</td>\n",
       "    </tr>\n",
       "    <tr>\n",
       "      <th>2</th>\n",
       "      <td>Sink temperature</td>\n",
       "      <td>35</td>\n",
       "    </tr>\n",
       "    <tr>\n",
       "      <th>3</th>\n",
       "      <td>Sink temperature (return)</td>\n",
       "      <td>25</td>\n",
       "    </tr>\n",
       "    <tr>\n",
       "      <th>4</th>\n",
       "      <td>Source temperature</td>\n",
       "      <td>7</td>\n",
       "    </tr>\n",
       "    <tr>\n",
       "      <th>5</th>\n",
       "      <td>Refrigerant</td>\n",
       "      <td>r134a</td>\n",
       "    </tr>\n",
       "    <tr>\n",
       "      <th>6</th>\n",
       "      <td>Capacity</td>\n",
       "      <td>10</td>\n",
       "    </tr>\n",
       "  </tbody>\n",
       "</table>\n",
       "</div>"
      ],
      "text/plain": [
       "                           0      1\n",
       "0                       Sink  Water\n",
       "1                     Source    Air\n",
       "2           Sink temperature     35\n",
       "3  Sink temperature (return)     25\n",
       "4         Source temperature      7\n",
       "5                Refrigerant  r134a\n",
       "6                   Capacity     10"
      ]
     },
     "execution_count": 123,
     "metadata": {},
     "output_type": "execute_result"
    }
   ],
   "source": [
    "inputs.inputtable"
   ]
  },
  {
   "cell_type": "code",
   "execution_count": 124,
   "metadata": {},
   "outputs": [
    {
     "data": {
      "text/html": [
       "<div>\n",
       "<style scoped>\n",
       "    .dataframe tbody tr th:only-of-type {\n",
       "        vertical-align: middle;\n",
       "    }\n",
       "\n",
       "    .dataframe tbody tr th {\n",
       "        vertical-align: top;\n",
       "    }\n",
       "\n",
       "    .dataframe thead th {\n",
       "        text-align: right;\n",
       "    }\n",
       "</style>\n",
       "<table border=\"1\" class=\"dataframe\">\n",
       "  <thead>\n",
       "    <tr style=\"text-align: right;\">\n",
       "      <th></th>\n",
       "      <th>point</th>\n",
       "      <th>T (deg. C)</th>\n",
       "      <th>p (bar)</th>\n",
       "      <th>h (kJ/kg)</th>\n",
       "      <th>s (kJ/kgK)</th>\n",
       "      <th>x</th>\n",
       "    </tr>\n",
       "  </thead>\n",
       "  <tbody>\n",
       "    <tr>\n",
       "      <th>0</th>\n",
       "      <td>1</td>\n",
       "      <td>6.000000</td>\n",
       "      <td>3.0418</td>\n",
       "      <td>403.67</td>\n",
       "      <td>1.746769</td>\n",
       "      <td>-</td>\n",
       "    </tr>\n",
       "    <tr>\n",
       "      <th>1</th>\n",
       "      <td>2s</td>\n",
       "      <td>51.849697</td>\n",
       "      <td>10.614579564120541</td>\n",
       "      <td>431.688521</td>\n",
       "      <td>1.746769</td>\n",
       "      <td>-</td>\n",
       "    </tr>\n",
       "    <tr>\n",
       "      <th>2</th>\n",
       "      <td>2</td>\n",
       "      <td>61.810536</td>\n",
       "      <td>10.614579564120541</td>\n",
       "      <td>442.177969</td>\n",
       "      <td>1.777409</td>\n",
       "      <td>-</td>\n",
       "    </tr>\n",
       "    <tr>\n",
       "      <th>3</th>\n",
       "      <td>3</td>\n",
       "      <td>41.565176</td>\n",
       "      <td>10.614579564120541</td>\n",
       "      <td>258.76715569980996</td>\n",
       "      <td>1.197512846851984</td>\n",
       "      <td>0</td>\n",
       "    </tr>\n",
       "    <tr>\n",
       "      <th>4</th>\n",
       "      <td>4</td>\n",
       "      <td>1.000000</td>\n",
       "      <td>3.0418</td>\n",
       "      <td>258.76715569980996</td>\n",
       "      <td>1.214236</td>\n",
       "      <td>0.290238</td>\n",
       "    </tr>\n",
       "  </tbody>\n",
       "</table>\n",
       "</div>"
      ],
      "text/plain": [
       "  point  T (deg. C)             p (bar)           h (kJ/kg)  \\\n",
       "0     1    6.000000              3.0418              403.67   \n",
       "1    2s   51.849697  10.614579564120541          431.688521   \n",
       "2     2   61.810536  10.614579564120541          442.177969   \n",
       "3     3   41.565176  10.614579564120541  258.76715569980996   \n",
       "4     4    1.000000              3.0418  258.76715569980996   \n",
       "\n",
       "          s (kJ/kgK)         x  \n",
       "0           1.746769         -  \n",
       "1           1.746769         -  \n",
       "2           1.777409         -  \n",
       "3  1.197512846851984         0  \n",
       "4           1.214236  0.290238  "
      ]
     },
     "execution_count": 124,
     "metadata": {},
     "output_type": "execute_result"
    }
   ],
   "source": [
    "reftable"
   ]
  }
 ],
 "metadata": {
  "kernelspec": {
   "display_name": "Python 3.9.13 ('base')",
   "language": "python",
   "name": "python3"
  },
  "language_info": {
   "codemirror_mode": {
    "name": "ipython",
    "version": 3
   },
   "file_extension": ".py",
   "mimetype": "text/x-python",
   "name": "python",
   "nbconvert_exporter": "python",
   "pygments_lexer": "ipython3",
   "version": "3.9.13"
  },
  "orig_nbformat": 4,
  "vscode": {
   "interpreter": {
    "hash": "ea8238db6dc1fe8cf6fe83219457bde9bcbcde2053d40c59d2e78211d10c5fee"
   }
  }
 },
 "nbformat": 4,
 "nbformat_minor": 2
}
